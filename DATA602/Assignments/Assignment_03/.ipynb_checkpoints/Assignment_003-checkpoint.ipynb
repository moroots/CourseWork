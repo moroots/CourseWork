{
 "cells": [
  {
   "cell_type": "markdown",
   "metadata": {},
   "source": [
    "#### Assignment Content\n",
    "\n",
    "- Configure a GitHub account w/ your UMBC email (if you don't have one). \n",
    "\n",
    "- Create repository to warehouse homeworks and projects for the first of the class. \n",
    "\n",
    "- Pick a dataset (not in the book or a common toy example) that you'll eventually want to use for a regression problem. \n",
    "\n",
    "- Perform EDA on that dataset in a Jupyter Notebook and post to Github. It should include information on the dataset, what question you eventually want to answer. Graphs and tables should be well labeled and \"professional\" quality. It should fully explore the dataset and provide the reader with all the high points regarding potential predictors and patterns in the data.\n",
    "\n",
    "In addition to code and output, include written descriptions of what you can see. This should be clear, considering, and use proper grammar.\n",
    "\n",
    "\n",
    "You will be submitting a link to your GitHub repository.\n",
    "\n",
    "\n",
    "\n",
    "#### Rubric:\n",
    "- (10%) GitHub repository for DATA602 created and folder for assignment 3 created\n",
    "Within assignment 3 folder there should be a folder for the data used (with the data included therein), an executed Jupyter Notebook, and a readme file with the data and project description.\n",
    "- (10%) Jupyter Notebook\n",
    "Markdown cells properly formatted. Major steps in the analysis should be described in the markdown and results should be discussed immediately after the code block.\n",
    "All code blocks have output below - no errors or cells that weren’t executed.\n",
    "Narratives are properly formatted, with correct grammar and punctuation.\n",
    "- (10%) Output of professional quality\n",
    "Charts properly labeled (axis labels, titles, …)\n",
    "- (70%) Completeness of exploratory analysis\n",
    "- (5%) Discussion of business question / objective that is being analyzed\n",
    "- (5%) Profiling of data (observations, missing values, data types)\n",
    "- (10%) Relevant categorical variables analyzed, and cleaned, if necessary.\n",
    "- (10%) Numerical variables analyzed (distributions, five number summary, …)\n",
    "- (30%) Exploration of relationships between key categorical and numerical variables\n",
    "- (10%) Discussion of what you have observed throughout your analysis\n",
    "\n",
    "I should be able to walk away with a through outstanding of the dataset you’ve chosen"
   ]
  },
  {
   "cell_type": "code",
   "execution_count": 14,
   "metadata": {},
   "outputs": [],
   "source": [
    "# ---- Required Packages ---- #\n",
    "import pandas as pd\n",
    "import numpy as np\n",
    "import matplotlib.pyplot as plt"
   ]
  },
  {
   "cell_type": "code",
   "execution_count": 15,
   "metadata": {},
   "outputs": [],
   "source": [
    "# ---- Function Space ---- #\n",
    "def uniques(pd_series):\n",
    "    uniques_list = [str(x).lower() for x in pd_series.unique()]\n",
    "    uniques_list = np.unique(uniques_list)\n",
    "    return uniques_list\n",
    "\n",
    "def rescoded(x):\n",
    "    if str(x).lower() == \"principal residence\": \n",
    "        m = 1\n",
    "    else: m = 0\n",
    "    return m"
   ]
  },
  {
   "cell_type": "code",
   "execution_count": 16,
   "metadata": {
    "scrolled": true
   },
   "outputs": [
    {
     "data": {
      "text/html": [
       "<div>\n",
       "<style scoped>\n",
       "    .dataframe tbody tr th:only-of-type {\n",
       "        vertical-align: middle;\n",
       "    }\n",
       "\n",
       "    .dataframe tbody tr th {\n",
       "        vertical-align: top;\n",
       "    }\n",
       "\n",
       "    .dataframe thead th {\n",
       "        text-align: right;\n",
       "    }\n",
       "</style>\n",
       "<table border=\"1\" class=\"dataframe\">\n",
       "  <thead>\n",
       "    <tr style=\"text-align: right;\">\n",
       "      <th></th>\n",
       "      <th>PropertyID</th>\n",
       "      <th>Block</th>\n",
       "      <th>Lot</th>\n",
       "      <th>Ward</th>\n",
       "      <th>Sect</th>\n",
       "      <th>PropertyAddress</th>\n",
       "      <th>LotSize</th>\n",
       "      <th>CityTax</th>\n",
       "      <th>StateTax</th>\n",
       "      <th>ResCode</th>\n",
       "      <th>AmountDue</th>\n",
       "      <th>AsOfDate</th>\n",
       "      <th>Neighborhood</th>\n",
       "      <th>PoliceDistrict</th>\n",
       "      <th>CouncilDistrict</th>\n",
       "      <th>Location</th>\n",
       "      <th>ESRI_OID</th>\n",
       "    </tr>\n",
       "  </thead>\n",
       "  <tbody>\n",
       "    <tr>\n",
       "      <th>0</th>\n",
       "      <td>0001001</td>\n",
       "      <td>0001</td>\n",
       "      <td>001</td>\n",
       "      <td>15</td>\n",
       "      <td>370</td>\n",
       "      <td>2045 W NORTH AVE</td>\n",
       "      <td>15-2X83-10</td>\n",
       "      <td>3412.46</td>\n",
       "      <td>170.02</td>\n",
       "      <td>NOT A PRINCIPAL RESIDENCE</td>\n",
       "      <td>3582.48</td>\n",
       "      <td>2021/07/31 04:00:00+00</td>\n",
       "      <td>Easterwood</td>\n",
       "      <td>Western</td>\n",
       "      <td>7.0</td>\n",
       "      <td>(39.30941347, -76.65114364)</td>\n",
       "      <td>22502</td>\n",
       "    </tr>\n",
       "    <tr>\n",
       "      <th>1</th>\n",
       "      <td>0001002</td>\n",
       "      <td>0001</td>\n",
       "      <td>002</td>\n",
       "      <td>15</td>\n",
       "      <td>370</td>\n",
       "      <td>2043 W NORTH AVE</td>\n",
       "      <td>14X83-10</td>\n",
       "      <td>1112.76</td>\n",
       "      <td>55.44</td>\n",
       "      <td>NOT A PRINCIPAL RESIDENCE</td>\n",
       "      <td>NaN</td>\n",
       "      <td>2018/06/04 04:00:00+00</td>\n",
       "      <td>Easterwood</td>\n",
       "      <td>Western</td>\n",
       "      <td>7.0</td>\n",
       "      <td>(39.30941619, -76.65109034)</td>\n",
       "      <td>22503</td>\n",
       "    </tr>\n",
       "    <tr>\n",
       "      <th>2</th>\n",
       "      <td>0001003</td>\n",
       "      <td>0001</td>\n",
       "      <td>003</td>\n",
       "      <td>15</td>\n",
       "      <td>370</td>\n",
       "      <td>2041 W NORTH AVE</td>\n",
       "      <td>14X83-10</td>\n",
       "      <td>202.32</td>\n",
       "      <td>10.08</td>\n",
       "      <td>NOT A PRINCIPAL RESIDENCE</td>\n",
       "      <td>212.40</td>\n",
       "      <td>2021/07/31 04:00:00+00</td>\n",
       "      <td>Easterwood</td>\n",
       "      <td>Western</td>\n",
       "      <td>7.0</td>\n",
       "      <td>(39.30941765, -76.65104058)</td>\n",
       "      <td>22504</td>\n",
       "    </tr>\n",
       "    <tr>\n",
       "      <th>3</th>\n",
       "      <td>0001004</td>\n",
       "      <td>0001</td>\n",
       "      <td>004</td>\n",
       "      <td>15</td>\n",
       "      <td>370</td>\n",
       "      <td>2039 W NORTH AVE</td>\n",
       "      <td>14X83-10</td>\n",
       "      <td>202.32</td>\n",
       "      <td>10.08</td>\n",
       "      <td>NOT A PRINCIPAL RESIDENCE</td>\n",
       "      <td>212.40</td>\n",
       "      <td>2021/07/31 04:00:00+00</td>\n",
       "      <td>Easterwood</td>\n",
       "      <td>Western</td>\n",
       "      <td>7.0</td>\n",
       "      <td>(39.30941951, -76.65099026)</td>\n",
       "      <td>22505</td>\n",
       "    </tr>\n",
       "    <tr>\n",
       "      <th>4</th>\n",
       "      <td>0001005</td>\n",
       "      <td>0001</td>\n",
       "      <td>005</td>\n",
       "      <td>15</td>\n",
       "      <td>370</td>\n",
       "      <td>2037 W NORTH AVE</td>\n",
       "      <td>14X83-10</td>\n",
       "      <td>502.05</td>\n",
       "      <td>25.01</td>\n",
       "      <td>NOT A PRINCIPAL RESIDENCE</td>\n",
       "      <td>527.06</td>\n",
       "      <td>2021/07/31 04:00:00+00</td>\n",
       "      <td>Easterwood</td>\n",
       "      <td>Western</td>\n",
       "      <td>7.0</td>\n",
       "      <td>(39.30942111, -76.65094166)</td>\n",
       "      <td>22506</td>\n",
       "    </tr>\n",
       "  </tbody>\n",
       "</table>\n",
       "</div>"
      ],
      "text/plain": [
       "  PropertyID Block  Lot  Ward  Sect   PropertyAddress            LotSize  \\\n",
       "0    0001001  0001  001    15   370  2045 W NORTH AVE  15-2X83-10          \n",
       "1    0001002  0001  002    15   370  2043 W NORTH AVE  14X83-10            \n",
       "2    0001003  0001  003    15   370  2041 W NORTH AVE  14X83-10            \n",
       "3    0001004  0001  004    15   370  2039 W NORTH AVE  14X83-10            \n",
       "4    0001005  0001  005    15   370  2037 W NORTH AVE  14X83-10            \n",
       "\n",
       "   CityTax  StateTax                    ResCode  AmountDue  \\\n",
       "0  3412.46    170.02  NOT A PRINCIPAL RESIDENCE    3582.48   \n",
       "1  1112.76     55.44  NOT A PRINCIPAL RESIDENCE        NaN   \n",
       "2   202.32     10.08  NOT A PRINCIPAL RESIDENCE     212.40   \n",
       "3   202.32     10.08  NOT A PRINCIPAL RESIDENCE     212.40   \n",
       "4   502.05     25.01  NOT A PRINCIPAL RESIDENCE     527.06   \n",
       "\n",
       "                 AsOfDate Neighborhood PoliceDistrict  CouncilDistrict  \\\n",
       "0  2021/07/31 04:00:00+00   Easterwood        Western              7.0   \n",
       "1  2018/06/04 04:00:00+00   Easterwood        Western              7.0   \n",
       "2  2021/07/31 04:00:00+00   Easterwood        Western              7.0   \n",
       "3  2021/07/31 04:00:00+00   Easterwood        Western              7.0   \n",
       "4  2021/07/31 04:00:00+00   Easterwood        Western              7.0   \n",
       "\n",
       "                      Location  ESRI_OID  \n",
       "0  (39.30941347, -76.65114364)     22502  \n",
       "1  (39.30941619, -76.65109034)     22503  \n",
       "2  (39.30941765, -76.65104058)     22504  \n",
       "3  (39.30941951, -76.65099026)     22505  \n",
       "4  (39.30942111, -76.65094166)     22506  "
      ]
     },
     "execution_count": 16,
     "metadata": {},
     "output_type": "execute_result"
    }
   ],
   "source": [
    "# ---- Importing Datasets ---- #\n",
    "real_property = pd.read_csv(\"data/Real_Property_Information.csv\")\n",
    "real_property.head(5)"
   ]
  },
  {
   "cell_type": "code",
   "execution_count": 17,
   "metadata": {},
   "outputs": [
    {
     "name": "stdout",
     "output_type": "stream",
     "text": [
      "<class 'pandas.core.frame.DataFrame'>\n",
      "RangeIndex: 237760 entries, 0 to 237759\n",
      "Data columns (total 17 columns):\n",
      " #   Column           Non-Null Count   Dtype  \n",
      "---  ------           --------------   -----  \n",
      " 0   PropertyID       237760 non-null  object \n",
      " 1   Block            237760 non-null  object \n",
      " 2   Lot              237760 non-null  object \n",
      " 3   Ward             237760 non-null  int64  \n",
      " 4   Sect             237760 non-null  int64  \n",
      " 5   PropertyAddress  237755 non-null  object \n",
      " 6   LotSize          237760 non-null  object \n",
      " 7   CityTax          219427 non-null  float64\n",
      " 8   StateTax         219469 non-null  float64\n",
      " 9   ResCode          237760 non-null  object \n",
      " 10  AmountDue        204684 non-null  float64\n",
      " 11  AsOfDate         237760 non-null  object \n",
      " 12  Neighborhood     221448 non-null  object \n",
      " 13  PoliceDistrict   221448 non-null  object \n",
      " 14  CouncilDistrict  221476 non-null  float64\n",
      " 15  Location         221488 non-null  object \n",
      " 16  ESRI_OID         237760 non-null  int64  \n",
      "dtypes: float64(4), int64(3), object(10)\n",
      "memory usage: 30.8+ MB\n"
     ]
    }
   ],
   "source": [
    "real_property.info()"
   ]
  },
  {
   "cell_type": "markdown",
   "metadata": {},
   "source": [
    "#### General Description of Dataset\n",
    "- Number of Nulls in each column\n",
    "- Ratio of Not-PR vs PR\n",
    "- Number of Neighboorhoods\n",
    "- Number of Blocks\n",
    "- Numer/Types of Lots\n",
    "- Number of Lots/Property"
   ]
  },
  {
   "cell_type": "markdown",
   "metadata": {},
   "source": [
    "### Null / Nan"
   ]
  },
  {
   "cell_type": "code",
   "execution_count": 18,
   "metadata": {
    "scrolled": true
   },
   "outputs": [
    {
     "name": "stdout",
     "output_type": "stream",
     "text": [
      "Number of NaN in each column:\n",
      "PropertyID             0\n",
      "Block                  0\n",
      "Lot                    0\n",
      "Ward                   0\n",
      "Sect                   0\n",
      "PropertyAddress        5\n",
      "LotSize                0\n",
      "CityTax            18333\n",
      "StateTax           18291\n",
      "ResCode                0\n",
      "AmountDue          33076\n",
      "AsOfDate               0\n",
      "Neighborhood       16312\n",
      "PoliceDistrict     16312\n",
      "CouncilDistrict    16284\n",
      "Location           16272\n",
      "ESRI_OID               0\n",
      "dtype: int64\n"
     ]
    }
   ],
   "source": [
    "print(f\"Number of NaN in each column:\\n{real_property.isnull().sum()}\")"
   ]
  },
  {
   "cell_type": "markdown",
   "metadata": {},
   "source": [
    "### Residence Code (ResCode):  Not-PR vs PR"
   ]
  },
  {
   "cell_type": "code",
   "execution_count": 19,
   "metadata": {},
   "outputs": [
    {
     "data": {
      "text/plain": [
       "<matplotlib.legend.Legend at 0x1386bcee808>"
      ]
     },
     "execution_count": 19,
     "metadata": {},
     "output_type": "execute_result"
    },
    {
     "data": {
      "image/png": "[encoded data removed]",
      "text/plain": [
       "<Figure size 360x360 with 1 Axes>"
      ]
     },
     "metadata": {},
     "output_type": "display_data"
    }
   ],
   "source": [
    "# - Not-PR vs PR\n",
    "pr = real_property.ResCode.value_counts(normalize=True, dropna=False)\n",
    "pr.plot.pie(figsize=(5,5))\n",
    "plt.legend([f\"Not-PR {100*round(pr[0], 4)}%\", f\"PR {100*round(pr[1], 4)}%\"], loc=\"upper right\")"
   ]
  },
  {
   "cell_type": "markdown",
   "metadata": {},
   "source": [
    "We see here that 53% of properties in Baltimore City are owned by persons, or companies, that have not designated the property as their primary residence. From this we conclude that Baltimore City property is mostly owned by investors. "
   ]
  },
  {
   "cell_type": "markdown",
   "metadata": {},
   "source": [
    "### Neighborhoods"
   ]
  },
  {
   "cell_type": "code",
   "execution_count": 78,
   "metadata": {
    "scrolled": false
   },
   "outputs": [
    {
     "name": "stdout",
     "output_type": "stream",
     "text": [
      "There are 279 Neighborhoods:\n",
      "(1) abell                          \t (2) allendale                      \t (3) arcadia\n",
      "(4) arlington                      \t (5) armistead gardens              \t (6) ashburton\n",
      "(7) baltimore highlands            \t (8) barclay                        \t (9) barre circle\n",
      "(10) bayview                        \t (11) beechfield                     \t (12) belair-edison\n",
      "(13) belair-parkside                \t (14) bellona-gittings               \t (15) belvedere\n",
      "(16) berea                          \t (17) better waverly                 \t (18) beverly hills\n",
      "(19) biddle street                  \t (20) blythewood                     \t (21) bolton hill\n",
      "(22) boyd-booth                     \t (23) brewers hill                   \t (24) bridgeview/greenlawn\n",
      "(25) broadway east                  \t (26) broening manor                 \t (27) brooklyn\n",
      "(28) burleith-leighton              \t (29) butcher's hill                 \t (30) callaway-garrison\n",
      "(31) cameron village                \t (32) canton                         \t (33) canton industrial area\n",
      "(34) care                           \t (35) carroll - camden industrial area \t (36) carroll park\n",
      "(37) carroll-south hilton           \t (38) carrollton ridge               \t (39) cedarcroft\n",
      "(40) cedmont                        \t (41) cedonia                        \t (42) central forest park\n",
      "(43) central park heights           \t (44) charles north                  \t (45) charles village\n",
      "(46) cherry hill                    \t (47) cheswolde                      \t (48) chinquapin park\n",
      "(49) clifton park                   \t (50) coldspring                     \t (51) coldstream homestead montebello\n",
      "(52) concerned citizens of forest park \t (53) coppin heights/ash-co-east     \t (54) cross country\n",
      "(55) cross keys                     \t (56) curtis bay                     \t (57) curtis bay industrial area\n",
      "(58) cylburn                        \t (59) darley park                    \t (60) dickeyville\n",
      "(61) dolfield                       \t (62) dorchester                     \t (63) downtown\n",
      "(64) downtown west                  \t (65) druid heights                  \t (66) druid hill park\n",
      "(67) dunbar-broadway                \t (68) dundalk marine terminal        \t (69) east arlington\n",
      "(70) east baltimore midway          \t (71) easterwood                     \t (72) eastwood\n",
      "(73) edgewood                       \t (74) edmondson village              \t (75) ednor gardens-lakeside\n",
      "(76) ellwood park/monument          \t (77) evergreen                      \t (78) evergreen lawn\n",
      "(79) evesham park                   \t (80) fairfield area                 \t (81) fairmont\n",
      "(82) fallstaff                      \t (83) federal hill                   \t (84) fells point\n",
      "(85) forest park                    \t (86) forest park golf course        \t (87) four by four\n",
      "(88) frankford                      \t (89) franklin square                \t (90) franklintown\n",
      "(91) franklintown road              \t (92) garwyn oaks                    \t (93) gay street\n",
      "(94) glen                           \t (95) glen oaks                      \t (96) glenham-belhar\n",
      "(97) graceland park                 \t (98) greektown                      \t (99) greenmount cemetery\n",
      "(100) greenmount west                \t (101) greenspring                    \t (102) grove park\n",
      "(103) guilford                       \t (104) gwynns falls                   \t (105) gwynns falls/leakin park\n",
      "(106) hamilton hills                 \t (107) hampden                        \t (108) hanlon-longwood\n",
      "(109) harlem park                    \t (110) harwood                        \t (111) hawkins point\n",
      "(112) heritage crossing              \t (113) herring run park               \t (114) highlandtown\n",
      "(115) hillen                         \t (116) hoes heights                   \t (117) holabird industrial park\n",
      "(118) hollins market                 \t (119) homeland                       \t (120) hopkins bayview\n",
      "(121) howard park                    \t (122) hunting ridge                  \t (123) idlewood\n",
      "(124) inner harbor                   \t (125) irvington                      \t (126) johns hopkins homewood\n",
      "(127) johnston square                \t (128) jones falls area               \t (129) jonestown\n",
      "(130) kenilworth park                \t (131) kernewood                      \t (132) keswick\n",
      "(133) kresson                        \t (134) lake evesham                   \t (135) lake walker\n",
      "(136) lakeland                       \t (137) langston hughes                \t (138) lauraville\n",
      "(139) levindale                      \t (140) liberty square                 \t (141) little italy\n",
      "(142) loch raven                     \t (143) locust point                   \t (144) locust point industrial area\n",
      "(145) lower edmondson village        \t (146) lower herring run park         \t (147) loyola/notre dame\n",
      "(148) lucille park                   \t (149) madison park                   \t (150) madison-eastend\n",
      "(151) mayfield                       \t (152) mcelderry park                 \t (153) medfield\n",
      "(154) medford                        \t (155) mid-govans                     \t (156) mid-town belvedere\n",
      "(157) middle branch/reedbird parks   \t (158) middle east                    \t (159) midtown-edmondson\n",
      "(160) millhill                       \t (161) milton-montford                \t (162) mondawmin\n",
      "(163) montebello                     \t (164) moravia-walther                \t (165) morgan park\n",
      "(166) morgan state university        \t (167) morrell park                   \t (168) mosher\n",
      "(169) mount holly                    \t (170) mount vernon                   \t (171) mount washington\n",
      "(172) mount winans                   \t (173) mt pleasant park               \t (174) nan\n",
      "(175) new northwood                  \t (176) new southwest/mount clare      \t (177) north harford road\n",
      "(178) north roland park/poplar hill  \t (179) northwest community action     \t (180) o'donnell heights\n",
      "(181) oakenshawe                     \t (182) oaklee                         \t (183) old goucher\n",
      "(184) oldtown                        \t (185) oliver                         \t (186) orangeville\n",
      "(187) orangeville industrial area    \t (188) orchard ridge                  \t (189) original northwood\n",
      "(190) otterbein                      \t (191) overlea                        \t (192) panway/braddish avenue\n",
      "(193) park circle                    \t (194) parklane                       \t (195) parkside\n",
      "(196) parkview/woodbrook             \t (197) patterson park                 \t (198) patterson park neighborhood\n",
      "(199) patterson place                \t (200) pen lucy                       \t (201) penn north\n",
      "(202) penn-fallsway                  \t (203) penrose/fayette street outreach \t (204) perkins homes\n",
      "(205) perring loch                   \t (206) pimlico good neighbors         \t (207) pleasant view gardens\n",
      "(208) poppleton                      \t (209) port covington                 \t (210) pulaski industrial area\n",
      "(211) purnell                        \t (212) radnor-winston                 \t (213) ramblewood\n",
      "(214) reisterstown station           \t (215) remington                      \t (216) reservoir hill\n",
      "(217) richnor springs                \t (218) ridgely's delight              \t (219) riverside\n",
      "(220) rognel heights                 \t (221) roland park                    \t (222) rosebank\n",
      "(223) rosemont                       \t (224) rosemont east                  \t (225) rosemont homeowners/tenants\n",
      "(226) sabina-mattfeldt               \t (227) saint agnes                    \t (228) saint helena\n",
      "(229) saint josephs                  \t (230) saint paul                     \t (231) sandtown-winchester\n",
      "(232) seton business park            \t (233) seton hill                     \t (234) sharp-leadenhall\n",
      "(235) shipley hill                   \t (236) south baltimore                \t (237) south clifton park\n",
      "(238) spring garden industrial area  \t (239) stadium area                   \t (240) stonewood-pentwood-winston\n",
      "(241) taylor heights                 \t (242) ten hills                      \t (243) the orchards\n",
      "(244) towanda-grantley               \t (245) tremont                        \t (246) tuscany-canterbury\n",
      "(247) union square                   \t (248) university of maryland         \t (249) uplands\n",
      "(250) upper fells point              \t (251) upton                          \t (252) villages of homeland\n",
      "(253) violetville                    \t (254) wakefield                      \t (255) walbrook\n",
      "(256) waltherson                     \t (257) washington hill                \t (258) washington village/pigtown\n",
      "(259) waverly                        \t (260) west arlington                 \t (261) west forest park\n",
      "(262) west hills                     \t (263) westfield                      \t (264) westgate\n",
      "(265) westport                       \t (266) wilhelm park                   \t (267) wilson park\n",
      "(268) winchester                     \t (269) windsor hills                  \t (270) winston-govans\n",
      "(271) woodberry                      \t (272) woodbourne heights             \t (273) woodbourne-mccabe\n",
      "(274) woodmere                       \t (275) wrenlane                       \t (276) wyman park\n",
      "(277) wyndhurst                      \t (278) yale heights                   \t (279) york-homeland\n"
     ]
    }
   ],
   "source": [
    "# - Neighborhoods\n",
    "hoods = uniques(real_property.Neighborhood)\n",
    "num_hoods = len(hoods)\n",
    "ii = np.arange(1, num_hoods+1)\n",
    "\n",
    "print(f\"There are {num_hoods} Neighborhoods:\")\n",
    "\n",
    "# The following is adapted from: \n",
    "# https://stackoverflow.com/questions/1524126/how-to-print-a-list-more-nicely\n",
    "for i,a,j,b,k,c in zip(ii[::3],hoods[::3],ii[1::3],hoods[1::3],ii[2::3],hoods[2::3]):\n",
    "    print(f\"({i}) {a:<30} \\t ({j}) {b:<30} \\t ({k}) {c:<}\")"
   ]
  },
  {
   "cell_type": "markdown",
   "metadata": {},
   "source": [
    "This is consistant with https://livebaltimore.com/neighborhoods/ noting that there are **over** 250 neighborhooods withing in Baltimore. The website also offers a map tool to visualize Baltimores neighborhoods."
   ]
  },
  {
   "cell_type": "markdown",
   "metadata": {},
   "source": [
    "### Blocks and Properties"
   ]
  },
  {
   "cell_type": "code",
   "execution_count": 21,
   "metadata": {},
   "outputs": [
    {
     "name": "stdout",
     "output_type": "stream",
     "text": [
      "There are 5553 blocks in Baltimore City\n",
      "There are 237760 lots in Baltimore City\n",
      "There are an average 77 lots per block in Baltimore City\n"
     ]
    },
    {
     "data": {
      "image/png": "[encoded data removed]",
      "text/plain": [
       "<Figure size 432x288 with 1 Axes>"
      ]
     },
     "metadata": {
      "needs_background": "light"
     },
     "output_type": "display_data"
    }
   ],
   "source": [
    "# Blocks and Properties\n",
    "blocks = uniques(real_property.Block)\n",
    "print(f\"There are {len(blocks)} blocks in Baltimore City\")\n",
    "\n",
    "props = uniques(real_property.PropertyID)\n",
    "print(f\"There are {len(props)} lots in Baltimore City\") \n",
    "\n",
    "avg_lots = np.mean(real_property.Lot.value_counts())\n",
    "print(f\"There are an average {round(avg_lots)} lots per block in Baltimore City\")\n",
    "bars = [len(blocks), len(props), avg_lots]\n",
    "names = (\"# of Blocks\", \"#  of Lots\", \"Avg. # of Lots per Block\")\n",
    "y_pos = np.arange(len(bars))\n",
    "fig, ax = plt.subplots()\n",
    "ax.barh(y_pos, bars)\n",
    "ax.set_xscale(\"log\")\n",
    "ax.set_yticks(y_pos)\n",
    "ax.set_yticklabels(names)\n",
    "ax.invert_yaxis()\n",
    "ax.set_xlabel(\"Quantity\")\n",
    "ax.set_title(\"Blocks and Properties\")\n",
    "plt.show()"
   ]
  },
  {
   "cell_type": "markdown",
   "metadata": {},
   "source": [
    "The above informs us that the average number of lots per Baltimore City block is 77. There are 5553 Blocks in Baltimore and 237760 lots. This means that there are plenty of properties available especially given the state of Baltimore's vacancy issue. "
   ]
  },
  {
   "cell_type": "code",
   "execution_count": 40,
   "metadata": {},
   "outputs": [
    {
     "data": {
      "text/html": [
       "<div>\n",
       "<style scoped>\n",
       "    .dataframe tbody tr th:only-of-type {\n",
       "        vertical-align: middle;\n",
       "    }\n",
       "\n",
       "    .dataframe tbody tr th {\n",
       "        vertical-align: top;\n",
       "    }\n",
       "\n",
       "    .dataframe thead th {\n",
       "        text-align: right;\n",
       "    }\n",
       "</style>\n",
       "<table border=\"1\" class=\"dataframe\">\n",
       "  <thead>\n",
       "    <tr style=\"text-align: right;\">\n",
       "      <th></th>\n",
       "      <th></th>\n",
       "      <th>size</th>\n",
       "    </tr>\n",
       "    <tr>\n",
       "      <th>Neighborhood</th>\n",
       "      <th>ResCode</th>\n",
       "      <th></th>\n",
       "    </tr>\n",
       "  </thead>\n",
       "  <tbody>\n",
       "    <tr>\n",
       "      <th rowspan=\"2\" valign=\"top\">Abell</th>\n",
       "      <th>NOT A PRINCIPAL RESIDENCE</th>\n",
       "      <td>204</td>\n",
       "    </tr>\n",
       "    <tr>\n",
       "      <th>PRINCIPAL RESIDENCE</th>\n",
       "      <td>252</td>\n",
       "    </tr>\n",
       "    <tr>\n",
       "      <th rowspan=\"2\" valign=\"top\">Allendale</th>\n",
       "      <th>NOT A PRINCIPAL RESIDENCE</th>\n",
       "      <td>693</td>\n",
       "    </tr>\n",
       "    <tr>\n",
       "      <th>PRINCIPAL RESIDENCE</th>\n",
       "      <td>659</td>\n",
       "    </tr>\n",
       "    <tr>\n",
       "      <th>Arcadia</th>\n",
       "      <th>NOT A PRINCIPAL RESIDENCE</th>\n",
       "      <td>149</td>\n",
       "    </tr>\n",
       "  </tbody>\n",
       "</table>\n",
       "</div>"
      ],
      "text/plain": [
       "                                        size\n",
       "Neighborhood ResCode                        \n",
       "Abell        NOT A PRINCIPAL RESIDENCE   204\n",
       "             PRINCIPAL RESIDENCE         252\n",
       "Allendale    NOT A PRINCIPAL RESIDENCE   693\n",
       "             PRINCIPAL RESIDENCE         659\n",
       "Arcadia      NOT A PRINCIPAL RESIDENCE   149"
      ]
     },
     "execution_count": 40,
     "metadata": {},
     "output_type": "execute_result"
    }
   ],
   "source": [
    "test = real_property.groupby([\"Neighborhood\", \"ResCode\"]).AmountDue.agg(['size'])\n",
    "test.head()"
   ]
  },
  {
   "cell_type": "markdown",
   "metadata": {},
   "source": [
    "------\n",
    "### How much money is owed to the State, City, and then Total? "
   ]
  },
  {
   "cell_type": "code",
   "execution_count": 23,
   "metadata": {
    "scrolled": true
   },
   "outputs": [
    {
     "name": "stdout",
     "output_type": "stream",
     "text": [
      "The total number of Taxes owed: \n",
      "City of Baltimore: $941180475.06 \n",
      "State of Maryland: $47786438.61 \n",
      "Total Taxes Due: $656847499.71\n"
     ]
    }
   ],
   "source": [
    "print(f\"The total number of Taxes owed: \\nCity of Baltimore: ${round(real_property.CityTax.sum(),2)} \\nState of Maryland: ${round(real_property.StateTax.sum(), 3)} \\nTotal Taxes Due: ${round(real_property.AmountDue.sum(), 3)}\")"
   ]
  },
  {
   "cell_type": "markdown",
   "metadata": {},
   "source": [
    "The City of Baltimore is owed over $940 million dollars and the State of Maryland is owed over $47 million "
   ]
  },
  {
   "cell_type": "markdown",
   "metadata": {},
   "source": [
    "-----\n",
    "### What 5 neighborhoods have the most overdue city taxes? "
   ]
  },
  {
   "cell_type": "code",
   "execution_count": 58,
   "metadata": {},
   "outputs": [
    {
     "data": {
      "text/html": [
       "<div>\n",
       "<style scoped>\n",
       "    .dataframe tbody tr th:only-of-type {\n",
       "        vertical-align: middle;\n",
       "    }\n",
       "\n",
       "    .dataframe tbody tr th {\n",
       "        vertical-align: top;\n",
       "    }\n",
       "\n",
       "    .dataframe thead th {\n",
       "        text-align: right;\n",
       "    }\n",
       "</style>\n",
       "<table border=\"1\" class=\"dataframe\">\n",
       "  <thead>\n",
       "    <tr style=\"text-align: right;\">\n",
       "      <th></th>\n",
       "      <th>Neighborhood</th>\n",
       "      <th>size</th>\n",
       "      <th>sum</th>\n",
       "      <th>max</th>\n",
       "      <th>min</th>\n",
       "      <th>count</th>\n",
       "      <th>median</th>\n",
       "      <th>mean</th>\n",
       "    </tr>\n",
       "  </thead>\n",
       "  <tbody>\n",
       "    <tr>\n",
       "      <th>0</th>\n",
       "      <td>Abell</td>\n",
       "      <td>456</td>\n",
       "      <td>1327078.30</td>\n",
       "      <td>31231.06</td>\n",
       "      <td>1.48</td>\n",
       "      <td>443</td>\n",
       "      <td>2543.97</td>\n",
       "      <td>2995.662077</td>\n",
       "    </tr>\n",
       "    <tr>\n",
       "      <th>1</th>\n",
       "      <td>Allendale</td>\n",
       "      <td>1352</td>\n",
       "      <td>1677134.84</td>\n",
       "      <td>8713.12</td>\n",
       "      <td>4.72</td>\n",
       "      <td>1258</td>\n",
       "      <td>1485.62</td>\n",
       "      <td>1333.175548</td>\n",
       "    </tr>\n",
       "    <tr>\n",
       "      <th>2</th>\n",
       "      <td>Arcadia</td>\n",
       "      <td>468</td>\n",
       "      <td>1046067.11</td>\n",
       "      <td>11733.46</td>\n",
       "      <td>5.00</td>\n",
       "      <td>444</td>\n",
       "      <td>2073.08</td>\n",
       "      <td>2356.007005</td>\n",
       "    </tr>\n",
       "    <tr>\n",
       "      <th>3</th>\n",
       "      <td>Arlington</td>\n",
       "      <td>987</td>\n",
       "      <td>918141.51</td>\n",
       "      <td>23238.92</td>\n",
       "      <td>4.05</td>\n",
       "      <td>861</td>\n",
       "      <td>826.00</td>\n",
       "      <td>1066.366446</td>\n",
       "    </tr>\n",
       "    <tr>\n",
       "      <th>4</th>\n",
       "      <td>Armistead Gardens</td>\n",
       "      <td>18</td>\n",
       "      <td>88006.26</td>\n",
       "      <td>40917.68</td>\n",
       "      <td>625.40</td>\n",
       "      <td>9</td>\n",
       "      <td>4627.98</td>\n",
       "      <td>9778.473333</td>\n",
       "    </tr>\n",
       "  </tbody>\n",
       "</table>\n",
       "</div>"
      ],
      "text/plain": [
       "        Neighborhood  size         sum       max     min  count   median  \\\n",
       "0              Abell   456  1327078.30  31231.06    1.48    443  2543.97   \n",
       "1          Allendale  1352  1677134.84   8713.12    4.72   1258  1485.62   \n",
       "2            Arcadia   468  1046067.11  11733.46    5.00    444  2073.08   \n",
       "3          Arlington   987   918141.51  23238.92    4.05    861   826.00   \n",
       "4  Armistead Gardens    18    88006.26  40917.68  625.40      9  4627.98   \n",
       "\n",
       "          mean  \n",
       "0  2995.662077  \n",
       "1  1333.175548  \n",
       "2  2356.007005  \n",
       "3  1066.366446  \n",
       "4  9778.473333  "
      ]
     },
     "execution_count": 58,
     "metadata": {},
     "output_type": "execute_result"
    }
   ],
   "source": [
    "Taxes = real_property.groupby(\"Neighborhood\").AmountDue.agg(['size', 'sum', 'max', 'min', 'count', 'median', 'mean'])\n",
    "Taxes = Taxes.reset_index()\n",
    "Taxes.head()"
   ]
  },
  {
   "cell_type": "code",
   "execution_count": 119,
   "metadata": {},
   "outputs": [
    {
     "data": {
      "text/plain": [
       "Text(0.5, 0, 'Neighborhood ID')"
      ]
     },
     "execution_count": 119,
     "metadata": {},
     "output_type": "execute_result"
    },
    {
     "data": {
      "image/png": "[encoded data removed]",
      "text/plain": [
       "<Figure size 720x1080 with 4 Axes>"
      ]
     },
     "metadata": {
      "needs_background": "light"
     },
     "output_type": "display_data"
    }
   ],
   "source": [
    "Taxes.columns\n",
    "fig, ((ax1, ax2, ax3, ax4)) = plt.subplots(4, 1, sharex=True, figsize=(10,15))\n",
    "plt.suptitle(\"Amount of Taxes Due\", fontsize=18)\n",
    "ax1.bar(Taxes.index, Taxes[\"sum\"], color=\"tab:blue\")\n",
    "ax1.set_ylabel(\"US Dollars\", fontsize=16)\n",
    "\n",
    "ax2.bar(Taxes.index, Taxes[\"mean\"], color=\"tab:orange\")\n",
    "ax2.set_ylabel(\"US Dollars\", fontsize=16)\n",
    "\n",
    "ax3.bar(Taxes.index, Taxes[\"max\"], color=\"tab:purple\")\n",
    "ax3.set_ylabel(\"US Dollars\", fontsize=16)\n",
    "\n",
    "ax4.bar(Taxes.index, Taxes[\"min\"], color=\"tab:green\")\n",
    "ax4.set_ylabel(\"US Dollars\", fontsize=16)\n",
    "ax4.set_xlabel(\"Neighborhood ID\", fontsize=16)"
   ]
  },
  {
   "cell_type": "markdown",
   "metadata": {},
   "source": [
    "Based on the peaks in the above figure we see that there some neighborhoods that _**may**_ be of interest. Note that there are several peaks of interest. "
   ]
  },
  {
   "cell_type": "code",
   "execution_count": 100,
   "metadata": {},
   "outputs": [
    {
     "data": {
      "text/html": [
       "<div>\n",
       "<style scoped>\n",
       "    .dataframe tbody tr th:only-of-type {\n",
       "        vertical-align: middle;\n",
       "    }\n",
       "\n",
       "    .dataframe tbody tr th {\n",
       "        vertical-align: top;\n",
       "    }\n",
       "\n",
       "    .dataframe thead th {\n",
       "        text-align: right;\n",
       "    }\n",
       "</style>\n",
       "<table border=\"1\" class=\"dataframe\">\n",
       "  <thead>\n",
       "    <tr style=\"text-align: right;\">\n",
       "      <th></th>\n",
       "      <th>Neighborhood</th>\n",
       "      <th>size</th>\n",
       "      <th>sum</th>\n",
       "      <th>max</th>\n",
       "      <th>min</th>\n",
       "      <th>count</th>\n",
       "      <th>median</th>\n",
       "      <th>mean</th>\n",
       "    </tr>\n",
       "  </thead>\n",
       "  <tbody>\n",
       "    <tr>\n",
       "      <th>32</th>\n",
       "      <td>Canton</td>\n",
       "      <td>6028</td>\n",
       "      <td>28039437.28</td>\n",
       "      <td>889295.33</td>\n",
       "      <td>3.14</td>\n",
       "      <td>5883</td>\n",
       "      <td>3465.660</td>\n",
       "      <td>4766.180058</td>\n",
       "    </tr>\n",
       "    <tr>\n",
       "      <th>62</th>\n",
       "      <td>Downtown</td>\n",
       "      <td>727</td>\n",
       "      <td>17585948.49</td>\n",
       "      <td>787803.40</td>\n",
       "      <td>6.90</td>\n",
       "      <td>487</td>\n",
       "      <td>6985.210</td>\n",
       "      <td>36110.777187</td>\n",
       "    </tr>\n",
       "    <tr>\n",
       "      <th>123</th>\n",
       "      <td>Inner Harbor</td>\n",
       "      <td>174</td>\n",
       "      <td>15044652.08</td>\n",
       "      <td>4384611.15</td>\n",
       "      <td>5.53</td>\n",
       "      <td>137</td>\n",
       "      <td>9845.940</td>\n",
       "      <td>109814.978686</td>\n",
       "    </tr>\n",
       "    <tr>\n",
       "      <th>217</th>\n",
       "      <td>Riverside</td>\n",
       "      <td>2850</td>\n",
       "      <td>13715003.99</td>\n",
       "      <td>633686.34</td>\n",
       "      <td>10.45</td>\n",
       "      <td>2772</td>\n",
       "      <td>3577.345</td>\n",
       "      <td>4947.692637</td>\n",
       "    </tr>\n",
       "    <tr>\n",
       "      <th>63</th>\n",
       "      <td>Downtown West</td>\n",
       "      <td>51</td>\n",
       "      <td>12645285.77</td>\n",
       "      <td>3975080.16</td>\n",
       "      <td>1090.32</td>\n",
       "      <td>25</td>\n",
       "      <td>127012.840</td>\n",
       "      <td>505811.430800</td>\n",
       "    </tr>\n",
       "  </tbody>\n",
       "</table>\n",
       "</div>"
      ],
      "text/plain": [
       "      Neighborhood  size          sum         max      min  count      median  \\\n",
       "32          Canton  6028  28039437.28   889295.33     3.14   5883    3465.660   \n",
       "62        Downtown   727  17585948.49   787803.40     6.90    487    6985.210   \n",
       "123   Inner Harbor   174  15044652.08  4384611.15     5.53    137    9845.940   \n",
       "217      Riverside  2850  13715003.99   633686.34    10.45   2772    3577.345   \n",
       "63   Downtown West    51  12645285.77  3975080.16  1090.32     25  127012.840   \n",
       "\n",
       "              mean  \n",
       "32     4766.180058  \n",
       "62    36110.777187  \n",
       "123  109814.978686  \n",
       "217    4947.692637  \n",
       "63   505811.430800  "
      ]
     },
     "execution_count": 100,
     "metadata": {},
     "output_type": "execute_result"
    }
   ],
   "source": [
    "Taxes_top5 = Taxes.sort_values(by=\"sum\", ascending=False)[0:5]\n",
    "Taxes_top5.head()"
   ]
  },
  {
   "cell_type": "code",
   "execution_count": 156,
   "metadata": {},
   "outputs": [
    {
     "data": {
      "text/html": [
       "<div>\n",
       "<style scoped>\n",
       "    .dataframe tbody tr th:only-of-type {\n",
       "        vertical-align: middle;\n",
       "    }\n",
       "\n",
       "    .dataframe tbody tr th {\n",
       "        vertical-align: top;\n",
       "    }\n",
       "\n",
       "    .dataframe thead th {\n",
       "        text-align: right;\n",
       "    }\n",
       "</style>\n",
       "<table border=\"1\" class=\"dataframe\">\n",
       "  <thead>\n",
       "    <tr style=\"text-align: right;\">\n",
       "      <th></th>\n",
       "      <th>Neighborhood</th>\n",
       "      <th>size</th>\n",
       "      <th>sum</th>\n",
       "      <th>max</th>\n",
       "      <th>min</th>\n",
       "      <th>count</th>\n",
       "      <th>median</th>\n",
       "      <th>mean</th>\n",
       "    </tr>\n",
       "  </thead>\n",
       "  <tbody>\n",
       "    <tr>\n",
       "      <th>65</th>\n",
       "      <td>Druid Hill Park</td>\n",
       "      <td>2</td>\n",
       "      <td>1320.47</td>\n",
       "      <td>1320.47</td>\n",
       "      <td>1320.47</td>\n",
       "      <td>1</td>\n",
       "      <td>1320.47</td>\n",
       "      <td>1320.470000</td>\n",
       "    </tr>\n",
       "    <tr>\n",
       "      <th>104</th>\n",
       "      <td>Gwynns Falls/Leakin Park</td>\n",
       "      <td>25</td>\n",
       "      <td>5515.27</td>\n",
       "      <td>2389.10</td>\n",
       "      <td>1542.34</td>\n",
       "      <td>3</td>\n",
       "      <td>1583.83</td>\n",
       "      <td>1838.423333</td>\n",
       "    </tr>\n",
       "    <tr>\n",
       "      <th>209</th>\n",
       "      <td>Purnell</td>\n",
       "      <td>4</td>\n",
       "      <td>6208.58</td>\n",
       "      <td>4807.91</td>\n",
       "      <td>1400.67</td>\n",
       "      <td>2</td>\n",
       "      <td>3104.29</td>\n",
       "      <td>3104.290000</td>\n",
       "    </tr>\n",
       "    <tr>\n",
       "      <th>178</th>\n",
       "      <td>O'Donnell Heights</td>\n",
       "      <td>18</td>\n",
       "      <td>12298.97</td>\n",
       "      <td>2153.81</td>\n",
       "      <td>1198.88</td>\n",
       "      <td>7</td>\n",
       "      <td>1753.75</td>\n",
       "      <td>1756.995714</td>\n",
       "    </tr>\n",
       "    <tr>\n",
       "      <th>125</th>\n",
       "      <td>Johns Hopkins Homewood</td>\n",
       "      <td>4</td>\n",
       "      <td>14270.92</td>\n",
       "      <td>14270.92</td>\n",
       "      <td>14270.92</td>\n",
       "      <td>1</td>\n",
       "      <td>14270.92</td>\n",
       "      <td>14270.920000</td>\n",
       "    </tr>\n",
       "  </tbody>\n",
       "</table>\n",
       "</div>"
      ],
      "text/plain": [
       "                 Neighborhood  size       sum       max       min  count  \\\n",
       "65            Druid Hill Park     2   1320.47   1320.47   1320.47      1   \n",
       "104  Gwynns Falls/Leakin Park    25   5515.27   2389.10   1542.34      3   \n",
       "209                   Purnell     4   6208.58   4807.91   1400.67      2   \n",
       "178         O'Donnell Heights    18  12298.97   2153.81   1198.88      7   \n",
       "125    Johns Hopkins Homewood     4  14270.92  14270.92  14270.92      1   \n",
       "\n",
       "       median          mean  \n",
       "65    1320.47   1320.470000  \n",
       "104   1583.83   1838.423333  \n",
       "209   3104.29   3104.290000  \n",
       "178   1753.75   1756.995714  \n",
       "125  14270.92  14270.920000  "
      ]
     },
     "execution_count": 156,
     "metadata": {},
     "output_type": "execute_result"
    }
   ],
   "source": [
    "Taxes_low5 = Taxes.sort_values(by=\"sum\")\n",
    "Taxes_low5 = Taxes_low5[Taxes_low5[\"sum\"]>0.0][0:5]\n",
    "Taxes_low5.head(50)"
   ]
  },
  {
   "cell_type": "code",
   "execution_count": 157,
   "metadata": {},
   "outputs": [
    {
     "data": {
      "text/plain": [
       "Text(0, 0.5, 'Total Sum Owed (US Dollars)')"
      ]
     },
     "execution_count": 157,
     "metadata": {},
     "output_type": "execute_result"
    },
    {
     "data": {
      "image/png": "[encoded data removed]",
      "text/plain": [
       "<Figure size 864x360 with 1 Axes>"
      ]
     },
     "metadata": {
      "needs_background": "light"
     },
     "output_type": "display_data"
    },
    {
     "data": {
      "image/png": "[encoded data removed]",
      "text/plain": [
       "<Figure size 864x360 with 1 Axes>"
      ]
     },
     "metadata": {
      "needs_background": "light"
     },
     "output_type": "display_data"
    }
   ],
   "source": [
    "plt.figure(figsize=(12,5))\n",
    "plt.title(\"5 Neighborhoods with Highest Total Sum of Taxes Owed\", fontsize=16)\n",
    "plt.bar(Taxes_top5.Neighborhood, Taxes_top5[\"sum\"])\n",
    "plt.xlabel(\"Neighborhood\", fontsize=16)\n",
    "plt.ylabel(\"Total Sum Owed (US Dollars)\", fontsize=16)\n",
    "\n",
    "plt.figure(figsize=(12,5))\n",
    "plt.title(\"5 Neighborhoods with Lowest Non-Zero Totlal Sum of Taxes Owed\", fontsize=16)\n",
    "plt.bar(Taxes_low5.Neighborhood, Taxes_low5[\"sum\"])\n",
    "plt.xlabel(\"Neighborhood\", fontsize=16)\n",
    "plt.ylabel(\"Total Sum Owed (US Dollars)\", fontsize=16)"
   ]
  },
  {
   "cell_type": "markdown",
   "metadata": {},
   "source": [
    "The above figure shows the top 5 neighborhoods with the highest total sum of taxes owed to the State of Maryland, and City of Baltimore. "
   ]
  },
  {
   "cell_type": "markdown",
   "metadata": {},
   "source": [
    "-----\n",
    "### What 5 neighborhoods have the most \"Not Principal Residence\"?"
   ]
  },
  {
   "cell_type": "code",
   "execution_count": 174,
   "metadata": {
    "scrolled": false
   },
   "outputs": [
    {
     "data": {
      "text/html": [
       "<div>\n",
       "<style scoped>\n",
       "    .dataframe tbody tr th:only-of-type {\n",
       "        vertical-align: middle;\n",
       "    }\n",
       "\n",
       "    .dataframe tbody tr th {\n",
       "        vertical-align: top;\n",
       "    }\n",
       "\n",
       "    .dataframe thead th {\n",
       "        text-align: right;\n",
       "    }\n",
       "</style>\n",
       "<table border=\"1\" class=\"dataframe\">\n",
       "  <thead>\n",
       "    <tr style=\"text-align: right;\">\n",
       "      <th></th>\n",
       "      <th>Neighborhood</th>\n",
       "      <th>0</th>\n",
       "    </tr>\n",
       "  </thead>\n",
       "  <tbody>\n",
       "    <tr>\n",
       "      <th>0</th>\n",
       "      <td>Abell</td>\n",
       "      <td>204</td>\n",
       "    </tr>\n",
       "    <tr>\n",
       "      <th>1</th>\n",
       "      <td>Allendale</td>\n",
       "      <td>693</td>\n",
       "    </tr>\n",
       "    <tr>\n",
       "      <th>2</th>\n",
       "      <td>Arcadia</td>\n",
       "      <td>149</td>\n",
       "    </tr>\n",
       "    <tr>\n",
       "      <th>3</th>\n",
       "      <td>Arlington</td>\n",
       "      <td>623</td>\n",
       "    </tr>\n",
       "    <tr>\n",
       "      <th>4</th>\n",
       "      <td>Armistead Gardens</td>\n",
       "      <td>18</td>\n",
       "    </tr>\n",
       "  </tbody>\n",
       "</table>\n",
       "</div>"
      ],
      "text/plain": [
       "        Neighborhood    0\n",
       "0              Abell  204\n",
       "1          Allendale  693\n",
       "2            Arcadia  149\n",
       "3          Arlington  623\n",
       "4  Armistead Gardens   18"
      ]
     },
     "execution_count": 174,
     "metadata": {},
     "output_type": "execute_result"
    }
   ],
   "source": [
    "test = real_property.groupby('ResCode')\n",
    "NotPR = test.get_group(\"NOT A PRINCIPAL RESIDENCE\")\n",
    "NotPR_Hoods = NotPR.groupby(\"Neighborhood\").size()\n",
    "\n",
    "PR = test.get_group(\"PRINCIPAL RESIDENCE      \")\n",
    "PR_Hoods = PR.groupby(\"Neighborhood\").size()\n",
    "\n",
    "NotPR_Hoods = NotPR_Hoods.reset_index()\n",
    "NotPR_Hoods.head()"
   ]
  },
  {
   "cell_type": "code",
   "execution_count": 175,
   "metadata": {},
   "outputs": [
    {
     "data": {
      "image/png": "[encoded data removed]",
      "text/plain": [
       "<Figure size 864x360 with 1 Axes>"
      ]
     },
     "metadata": {
      "needs_background": "light"
     },
     "output_type": "display_data"
    }
   ],
   "source": [
    "plt.figure(figsize=(12, 5))\n",
    "plt.bar(NotPR_Hoods.index, NotPR_Hoods[0])\n",
    "plt.title(\"Number of Not-PR\", fontsize=\"16\")\n",
    "plt.show()"
   ]
  },
  {
   "cell_type": "code",
   "execution_count": 176,
   "metadata": {},
   "outputs": [
    {
     "data": {
      "text/html": [
       "<div>\n",
       "<style scoped>\n",
       "    .dataframe tbody tr th:only-of-type {\n",
       "        vertical-align: middle;\n",
       "    }\n",
       "\n",
       "    .dataframe tbody tr th {\n",
       "        vertical-align: top;\n",
       "    }\n",
       "\n",
       "    .dataframe thead th {\n",
       "        text-align: right;\n",
       "    }\n",
       "</style>\n",
       "<table border=\"1\" class=\"dataframe\">\n",
       "  <thead>\n",
       "    <tr style=\"text-align: right;\">\n",
       "      <th></th>\n",
       "      <th>Neighborhood</th>\n",
       "      <th>0</th>\n",
       "    </tr>\n",
       "  </thead>\n",
       "  <tbody>\n",
       "    <tr>\n",
       "      <th>0</th>\n",
       "      <td>Abell</td>\n",
       "      <td>204</td>\n",
       "    </tr>\n",
       "    <tr>\n",
       "      <th>1</th>\n",
       "      <td>Allendale</td>\n",
       "      <td>693</td>\n",
       "    </tr>\n",
       "    <tr>\n",
       "      <th>2</th>\n",
       "      <td>Arcadia</td>\n",
       "      <td>149</td>\n",
       "    </tr>\n",
       "    <tr>\n",
       "      <th>3</th>\n",
       "      <td>Arlington</td>\n",
       "      <td>623</td>\n",
       "    </tr>\n",
       "    <tr>\n",
       "      <th>4</th>\n",
       "      <td>Armistead Gardens</td>\n",
       "      <td>18</td>\n",
       "    </tr>\n",
       "  </tbody>\n",
       "</table>\n",
       "</div>"
      ],
      "text/plain": [
       "        Neighborhood    0\n",
       "0              Abell  204\n",
       "1          Allendale  693\n",
       "2            Arcadia  149\n",
       "3          Arlington  623\n",
       "4  Armistead Gardens   18"
      ]
     },
     "execution_count": 176,
     "metadata": {},
     "output_type": "execute_result"
    }
   ],
   "source": [
    "NotPR_Hoods_high = NotPR_Hoods.sort_values(by=0, ascending=False)[0:5]\n",
    "NotPR_Hoods.head()"
   ]
  },
  {
   "cell_type": "code",
   "execution_count": 177,
   "metadata": {},
   "outputs": [
    {
     "data": {
      "text/html": [
       "<div>\n",
       "<style scoped>\n",
       "    .dataframe tbody tr th:only-of-type {\n",
       "        vertical-align: middle;\n",
       "    }\n",
       "\n",
       "    .dataframe tbody tr th {\n",
       "        vertical-align: top;\n",
       "    }\n",
       "\n",
       "    .dataframe thead th {\n",
       "        text-align: right;\n",
       "    }\n",
       "</style>\n",
       "<table border=\"1\" class=\"dataframe\">\n",
       "  <thead>\n",
       "    <tr style=\"text-align: right;\">\n",
       "      <th></th>\n",
       "      <th>Neighborhood</th>\n",
       "      <th>0</th>\n",
       "    </tr>\n",
       "  </thead>\n",
       "  <tbody>\n",
       "    <tr>\n",
       "      <th>0</th>\n",
       "      <td>Abell</td>\n",
       "      <td>204</td>\n",
       "    </tr>\n",
       "    <tr>\n",
       "      <th>1</th>\n",
       "      <td>Allendale</td>\n",
       "      <td>693</td>\n",
       "    </tr>\n",
       "    <tr>\n",
       "      <th>2</th>\n",
       "      <td>Arcadia</td>\n",
       "      <td>149</td>\n",
       "    </tr>\n",
       "    <tr>\n",
       "      <th>3</th>\n",
       "      <td>Arlington</td>\n",
       "      <td>623</td>\n",
       "    </tr>\n",
       "    <tr>\n",
       "      <th>4</th>\n",
       "      <td>Armistead Gardens</td>\n",
       "      <td>18</td>\n",
       "    </tr>\n",
       "  </tbody>\n",
       "</table>\n",
       "</div>"
      ],
      "text/plain": [
       "        Neighborhood    0\n",
       "0              Abell  204\n",
       "1          Allendale  693\n",
       "2            Arcadia  149\n",
       "3          Arlington  623\n",
       "4  Armistead Gardens   18"
      ]
     },
     "execution_count": 177,
     "metadata": {},
     "output_type": "execute_result"
    }
   ],
   "source": [
    "NotPR_Hoods_low = NotPR_Hoods.sort_values(by=0)\n",
    "NotPR_Hoods_low = NotPR_Hoods_low[NotPR_Hoods_low[0] > 0][0:5]\n",
    "NotPR_Hoods.head()"
   ]
  },
  {
   "cell_type": "code",
   "execution_count": 178,
   "metadata": {},
   "outputs": [
    {
     "data": {
      "text/plain": [
       "Text(0, 0.5, 'Total Number of Not-PR')"
      ]
     },
     "execution_count": 178,
     "metadata": {},
     "output_type": "execute_result"
    },
    {
     "data": {
      "image/png": "[encoded data removed]",
      "text/plain": [
       "<Figure size 864x360 with 1 Axes>"
      ]
     },
     "metadata": {
      "needs_background": "light"
     },
     "output_type": "display_data"
    },
    {
     "data": {
      "image/png": "[encoded data removed]",
      "text/plain": [
       "<Figure size 864x360 with 1 Axes>"
      ]
     },
     "metadata": {
      "needs_background": "light"
     },
     "output_type": "display_data"
    }
   ],
   "source": [
    "plt.figure(figsize=(12,5))\n",
    "plt.title(\"5 Neighborhoods with Highest number of Non-Primary Residence Properties\", fontsize=16)\n",
    "plt.bar(NotPR_Hoods_high.Neighborhood, NotPR_Hoods_high[0])\n",
    "plt.xlabel(\"Neighborhood\", fontsize=16)\n",
    "plt.ylabel(\"Total Number of Not-PR\", fontsize=16)\n",
    "\n",
    "plt.figure(figsize=(12,5))\n",
    "plt.title(\"5 Neighborhoods with Lowest non-zero number of Non-Primary Residence Properties\", fontsize=16)\n",
    "plt.bar(NotPR_Hoods_low.Neighborhood, NotPR_Hoods_low[0])\n",
    "plt.xlabel(\"Neighborhood\", fontsize=16)\n",
    "plt.ylabel(\"Total Number of Not-PR\", fontsize=16)"
   ]
  },
  {
   "cell_type": "markdown",
   "metadata": {},
   "source": [
    "---\n",
    "### What is the distribution of lots that owe taxes organized by lot size?"
   ]
  },
  {
   "cell_type": "code",
   "execution_count": null,
   "metadata": {},
   "outputs": [],
   "source": [
    "LotSize = uniques(real_property.LotSize)\n",
    "print(len(LotSize))\n",
    "test = real_property.groupby('LotSize')"
   ]
  }
 ],
 "metadata": {
  "kernelspec": {
   "display_name": "Python 3",
   "language": "python",
   "name": "python3"
  },
  "language_info": {
   "codemirror_mode": {
    "name": "ipython",
    "version": 3
   },
   "file_extension": ".py",
   "mimetype": "text/x-python",
   "name": "python",
   "nbconvert_exporter": "python",
   "pygments_lexer": "ipython3",
   "version": "3.7.9"
  }
 },
 "nbformat": 4,
 "nbformat_minor": 5
}
