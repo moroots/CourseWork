{
 "cells": [
  {
   "cell_type": "markdown",
   "metadata": {},
   "source": [
    "## Creating Large Dataset for Model Training"
   ]
  },
  {
   "cell_type": "code",
   "execution_count": 2,
   "metadata": {
    "scrolled": true
   },
   "outputs": [
    {
     "name": "stdout",
     "output_type": "stream",
     "text": [
      "Loading Companies\n",
      "[*********************100%***********************]  1 of 1 completed\n",
      "[*********************100%***********************]  1 of 1 completed\n",
      "[*********************100%***********************]  1 of 1 completed\n",
      "[*********************100%***********************]  1 of 1 completed\n",
      "[*********************100%***********************]  1 of 1 completed\n",
      "[*********************100%***********************]  1 of 1 completed\n",
      "[*********************100%***********************]  1 of 1 completed\n",
      "[*********************100%***********************]  1 of 1 completed\n",
      "[*********************100%***********************]  1 of 1 completed\n",
      "[*********************100%***********************]  1 of 1 completed\n",
      "[*********************100%***********************]  1 of 1 completed\n",
      "[*********************100%***********************]  1 of 1 completed\n",
      "Loading Indecies\n",
      "[*********************100%***********************]  1 of 1 completed\n",
      "[*********************100%***********************]  1 of 1 completed\n",
      "[*********************100%***********************]  1 of 1 completed\n",
      "[*********************100%***********************]  1 of 1 completed\n",
      "[*********************100%***********************]  1 of 1 completed\n",
      "Loading Commodities Futures\n",
      "[*********************100%***********************]  1 of 1 completed\n",
      "[*********************100%***********************]  1 of 1 completed\n",
      "[*********************100%***********************]  1 of 1 completed\n",
      "[*********************100%***********************]  1 of 1 completed\n",
      "[*********************100%***********************]  1 of 1 completed\n",
      "[*********************100%***********************]  1 of 1 completed\n"
     ]
    }
   ],
   "source": [
    "import pandas as pd\n",
    "import yfinance as yf\n",
    "import pandas_ta as ta\n",
    "\n",
    "data = {}\n",
    "tickers = {}\n",
    "tickers[\"company_tickers\"] = [\"JNJ\", \"PFE\", \"PG\", \"MSFT\", \"AMZN\", \"CVX\", \"XOM\", \"BP\", \"INTC\", \"AMD\", \"BA\", \"T\"]\n",
    "tickers[\"index_tickers\"] = [\"^GSPC\", \"^IXIC\", \"^DJI\",  \"000001.SS\", \"^N225\"]\n",
    "tickers[\"commodities_tickers\"] = [\"CL=F\", \"HG=F\", \"GC=F\", \"SI=F\", \"RB=F\", \"NG=F\"]\n",
    "\n",
    "print(f\"Loading Companies\")\n",
    "for company in tickers[\"company_tickers\"]:\n",
    "    data[company] = yf.download(company, start=\"2000-01-01\", end=\"2021-11-30\", interval=\"1D\")\n",
    "    \n",
    "\n",
    "print(f\"Loading Indecies\")\n",
    "for index in tickers[\"index_tickers\"]:\n",
    "    data[index] = yf.download(index, start=\"2000-01-01\", end=\"2021-11-30\", interval=\"1D\")\n",
    "\n",
    "\n",
    "print(f\"Loading Commodities Futures\")\n",
    "for commodity in tickers[\"commodities_tickers\"]:\n",
    "    data[commodity] = yf.download(commodity, start=\"2000-01-01\", end=\"2021-11-30\", interval=\"1D\")"
   ]
  },
  {
   "cell_type": "code",
   "execution_count": 3,
   "metadata": {},
   "outputs": [],
   "source": [
    "def momentum_indicators(df):\n",
    "    df.ta.rsi(append=True)\n",
    "    df.ta.macd(append=True)\n",
    "    df.ta.roc(append=True)\n",
    "    df.ta.willr(append=True)\n",
    "    df.ta.stochrsi(append=True)\n",
    "    df.ta.inertia(append=True)\n",
    "    df.ta.dm(append=True)\n",
    "    return df\n",
    "\n",
    "def add_indicators(data):\n",
    "    for key in data.keys():\n",
    "        data[key] = momentum_indicators(data[key])\n",
    "        drops = [\"Adj Close\", \"High\", \"Open\", \"Low\", \"Close\", \"Volume\"]\n",
    "        data[key].drop(columns=drops, inplace=True)\n",
    "    return data\n",
    "\n",
    "def make_target(SP500, ema_len=30):\n",
    "    SP500.ta.ema(length = 30, append=True)\n",
    "    SP500[\"EMA_30_FT\"] = SP500.EMA_30.shift(periods=-30)\n",
    "    SP500[\"Diff\"] = (SP500.EMA_30_FT - SP500.EMA_30)\n",
    "    SP500[\"Diff_ratio\"] = SP500.Diff / SP500.EMA_30\n",
    "    SP500[\"Diff_shift\"] = SP500.Diff_ratio.shift(periods=-30)\n",
    "    SP500[\"Target\"] = SP500.Diff_shift.apply(lambda x: -1 if x < -0.01 else (1 if x > 0.01 else 0))\n",
    "    return SP500.Target"
   ]
  },
  {
   "cell_type": "code",
   "execution_count": 4,
   "metadata": {},
   "outputs": [],
   "source": [
    "data = add_indicators(data)"
   ]
  },
  {
   "cell_type": "code",
   "execution_count": 5,
   "metadata": {},
   "outputs": [
    {
     "data": {
      "text/plain": [
       "(5699, 253)"
      ]
     },
     "execution_count": 5,
     "metadata": {},
     "output_type": "execute_result"
    }
   ],
   "source": [
    "dataframe = pd.concat([data[key] for key in data.keys()], axis=1)\n",
    "dataframe.shape"
   ]
  },
  {
   "cell_type": "code",
   "execution_count": 6,
   "metadata": {},
   "outputs": [
    {
     "name": "stdout",
     "output_type": "stream",
     "text": [
      "[*********************100%***********************]  1 of 1 completed\n"
     ]
    }
   ],
   "source": [
    "SPY = yf.download(\"^GSPC\", start=\"2000-01-01\", end=\"2021-11-30\", interval=\"1D\")"
   ]
  },
  {
   "cell_type": "code",
   "execution_count": 7,
   "metadata": {},
   "outputs": [],
   "source": [
    "target = make_target(SPY)"
   ]
  },
  {
   "cell_type": "code",
   "execution_count": 8,
   "metadata": {},
   "outputs": [
    {
     "data": {
      "text/plain": [
       "(5513,)"
      ]
     },
     "execution_count": 8,
     "metadata": {},
     "output_type": "execute_result"
    }
   ],
   "source": [
    "target.shape"
   ]
  },
  {
   "cell_type": "code",
   "execution_count": 9,
   "metadata": {},
   "outputs": [
    {
     "data": {
      "text/plain": [
       "(4620, 254)"
      ]
     },
     "execution_count": 9,
     "metadata": {},
     "output_type": "execute_result"
    }
   ],
   "source": [
    "dataframe = pd.concat([dataframe, target], axis=1)\n",
    "dataframe.dropna(axis=0, inplace=True)\n",
    "dataframe.shape"
   ]
  },
  {
   "cell_type": "code",
   "execution_count": 12,
   "metadata": {},
   "outputs": [],
   "source": [
    "dataframe.head(5)\n",
    "dataframe.to_csv(r\"data/momentum_market_data.csv\")"
   ]
  }
 ],
 "metadata": {
  "kernelspec": {
   "display_name": "Python 3",
   "language": "python",
   "name": "python3"
  },
  "language_info": {
   "codemirror_mode": {
    "name": "ipython",
    "version": 3
   },
   "file_extension": ".py",
   "mimetype": "text/x-python",
   "name": "python",
   "nbconvert_exporter": "python",
   "pygments_lexer": "ipython3",
   "version": "3.7.9"
  }
 },
 "nbformat": 4,
 "nbformat_minor": 4
}
