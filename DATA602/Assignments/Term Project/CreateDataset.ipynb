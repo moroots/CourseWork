{
 "cells": [
  {
   "cell_type": "markdown",
   "metadata": {},
   "source": [
    "## Creating Large Dataset for Model Training\n",
    "This s comprised of momentum indicators of several handpicked stocks that I think represent a good space in the U.S.A market, indecies that the U.S.A market depend on, and commodities that the the U.S.A depends on. "
   ]
  },
  {
   "cell_type": "code",
   "execution_count": 1,
   "metadata": {},
   "outputs": [],
   "source": [
    "### Importing Needed Packages\n",
    "import pandas as pd\n",
    "import yfinance as yf\n",
    "import pandas_ta as ta"
   ]
  },
  {
   "cell_type": "code",
   "execution_count": 2,
   "metadata": {},
   "outputs": [],
   "source": [
    "### Function SPace\n",
    "\n",
    "# This on will append all needed momentum indicators to the dataframe provided\n",
    "def momentum_indicators(df):\n",
    "    df.ta.rsi(append=True)\n",
    "    df.ta.macd(append=True)\n",
    "    df.ta.roc(append=True)\n",
    "    df.ta.willr(append=True)\n",
    "    df.ta.stochrsi(append=True)\n",
    "    df.ta.inertia(append=True)\n",
    "    df.ta.dm(append=True)\n",
    "    return df\n",
    "\n",
    "# This on willl add the indicators from the above function and then remove the unwanted pieces\n",
    "def add_indicators(data):\n",
    "    for key in data.keys():\n",
    "        data[key] = momentum_indicators(data[key])\n",
    "        drops = [\"Adj Close\", \"High\", \"Open\", \"Low\", \"Close\", \"Volume\"]\n",
    "        data[key].drop(columns=drops, inplace=True)\n",
    "    return data\n",
    "\n",
    "# This one will create the target data from the S&P500 index\n",
    "def make_target(SP500, ema_len=30):\n",
    "    SP500.ta.ema(length = 30, append=True)\n",
    "    SP500[\"EMA_30_FT\"] = SP500.EMA_30.shift(periods=-30)\n",
    "    SP500[\"Diff\"] = (SP500.EMA_30_FT - SP500.EMA_30)\n",
    "    SP500[\"Diff_ratio\"] = SP500.Diff / SP500.EMA_30\n",
    "    SP500[\"Diff_shift\"] = SP500.Diff_ratio.shift(periods=-30)\n",
    "    SP500[\"Target\"] = SP500.Diff_shift.apply(lambda x: -1 if x < -0.01 else (1 if x > 0.01 else 0))\n",
    "    return SP500.Target"
   ]
  },
  {
   "cell_type": "markdown",
   "metadata": {},
   "source": [
    "---\n",
    "### Downloading Data"
   ]
  },
  {
   "cell_type": "markdown",
   "metadata": {},
   "source": [
    "Packages and Functions are loaded and now to grab the data. The code below will download all the **ticker** symbols using a yahoo fiance scraper called yfinance. Its a great package to have. I highly recommend it. The data will come in a as dataframe with columns for Open, High, Low, Close, Volume, and Adjusted Close. My code will the pandas dataframes into a dictionary for storage.  "
   ]
  },
  {
   "cell_type": "code",
   "execution_count": 3,
   "metadata": {
    "scrolled": true
   },
   "outputs": [
    {
     "name": "stdout",
     "output_type": "stream",
     "text": [
      "Loading Companies\n",
      "[*********************100%***********************]  1 of 1 completed\n",
      "[*********************100%***********************]  1 of 1 completed\n",
      "[*********************100%***********************]  1 of 1 completed\n",
      "[*********************100%***********************]  1 of 1 completed\n",
      "[*********************100%***********************]  1 of 1 completed\n",
      "[*********************100%***********************]  1 of 1 completed\n",
      "[*********************100%***********************]  1 of 1 completed\n",
      "[*********************100%***********************]  1 of 1 completed\n",
      "[*********************100%***********************]  1 of 1 completed\n",
      "[*********************100%***********************]  1 of 1 completed\n",
      "[*********************100%***********************]  1 of 1 completed\n",
      "[*********************100%***********************]  1 of 1 completed\n",
      "Loading Indecies\n",
      "[*********************100%***********************]  1 of 1 completed\n",
      "[*********************100%***********************]  1 of 1 completed\n",
      "[*********************100%***********************]  1 of 1 completed\n",
      "[*********************100%***********************]  1 of 1 completed\n",
      "[*********************100%***********************]  1 of 1 completed\n",
      "Loading Commodities Futures\n",
      "[*********************100%***********************]  1 of 1 completed\n",
      "[*********************100%***********************]  1 of 1 completed\n",
      "[*********************100%***********************]  1 of 1 completed\n",
      "[*********************100%***********************]  1 of 1 completed\n",
      "[*********************100%***********************]  1 of 1 completed\n",
      "[*********************100%***********************]  1 of 1 completed\n"
     ]
    }
   ],
   "source": [
    "data = {}\n",
    "tickers = {}\n",
    "tickers[\"company_tickers\"] = [\"JNJ\", \"PFE\", \"PG\", \"MSFT\", \"AMZN\", \"CVX\", \"XOM\", \"BP\", \"INTC\", \"AMD\", \"BA\", \"T\"]\n",
    "tickers[\"index_tickers\"] = [\"^GSPC\", \"^IXIC\", \"^DJI\",  \"000001.SS\", \"^N225\"]\n",
    "tickers[\"commodities_tickers\"] = [\"CL=F\", \"HG=F\", \"GC=F\", \"SI=F\", \"RB=F\", \"NG=F\"]\n",
    "\n",
    "print(f\"Loading Companies\")\n",
    "for company in tickers[\"company_tickers\"]:\n",
    "    data[company] = yf.download(company, start=\"2000-01-01\", end=\"2021-11-30\", interval=\"1D\")\n",
    "    \n",
    "\n",
    "print(f\"Loading Indecies\")\n",
    "for index in tickers[\"index_tickers\"]:\n",
    "    data[index] = yf.download(index, start=\"2000-01-01\", end=\"2021-11-30\", interval=\"1D\")\n",
    "\n",
    "\n",
    "print(f\"Loading Commodities Futures\")\n",
    "for commodity in tickers[\"commodities_tickers\"]:\n",
    "    data[commodity] = yf.download(commodity, start=\"2000-01-01\", end=\"2021-11-30\", interval=\"1D\")"
   ]
  },
  {
   "cell_type": "markdown",
   "metadata": {},
   "source": [
    "The Data is downloaded now we need the indicators!"
   ]
  },
  {
   "cell_type": "markdown",
   "metadata": {},
   "source": [
    "---\n",
    "### Creating the Dataset"
   ]
  },
  {
   "cell_type": "markdown",
   "metadata": {},
   "source": [
    "Adding the indicators"
   ]
  },
  {
   "cell_type": "code",
   "execution_count": 4,
   "metadata": {},
   "outputs": [],
   "source": [
    "data = add_indicators(data)"
   ]
  },
  {
   "cell_type": "markdown",
   "metadata": {},
   "source": [
    "Gluing together all the dataframes created."
   ]
  },
  {
   "cell_type": "code",
   "execution_count": 5,
   "metadata": {},
   "outputs": [
    {
     "data": {
      "text/plain": [
       "(5699, 253)"
      ]
     },
     "execution_count": 5,
     "metadata": {},
     "output_type": "execute_result"
    }
   ],
   "source": [
    "dataframe = pd.concat([data[key] for key in data.keys()], axis=1)\n",
    "dataframe.shape"
   ]
  },
  {
   "cell_type": "markdown",
   "metadata": {},
   "source": [
    "Downloading the Target Data!"
   ]
  },
  {
   "cell_type": "code",
   "execution_count": 6,
   "metadata": {},
   "outputs": [
    {
     "name": "stdout",
     "output_type": "stream",
     "text": [
      "[*********************100%***********************]  1 of 1 completed\n"
     ]
    }
   ],
   "source": [
    "SPY = yf.download(\"^GSPC\", start=\"2000-01-01\", end=\"2021-11-30\", interval=\"1D\")"
   ]
  },
  {
   "cell_type": "markdown",
   "metadata": {},
   "source": [
    "Making the Target column"
   ]
  },
  {
   "cell_type": "code",
   "execution_count": 7,
   "metadata": {},
   "outputs": [],
   "source": [
    "target = make_target(SPY)"
   ]
  },
  {
   "cell_type": "code",
   "execution_count": 8,
   "metadata": {},
   "outputs": [
    {
     "data": {
      "text/plain": [
       "(5513,)"
      ]
     },
     "execution_count": 8,
     "metadata": {},
     "output_type": "execute_result"
    }
   ],
   "source": [
    "target.shape"
   ]
  },
  {
   "cell_type": "markdown",
   "metadata": {},
   "source": [
    "Appending the Target Column!"
   ]
  },
  {
   "cell_type": "code",
   "execution_count": 9,
   "metadata": {},
   "outputs": [
    {
     "data": {
      "text/plain": [
       "(4620, 254)"
      ]
     },
     "execution_count": 9,
     "metadata": {},
     "output_type": "execute_result"
    }
   ],
   "source": [
    "dataframe = pd.concat([dataframe, target], axis=1)\n",
    "dataframe.dropna(axis=0, inplace=True)\n",
    "dataframe.shape"
   ]
  },
  {
   "cell_type": "code",
   "execution_count": 10,
   "metadata": {},
   "outputs": [
    {
     "data": {
      "text/html": [
       "<div>\n",
       "<style scoped>\n",
       "    .dataframe tbody tr th:only-of-type {\n",
       "        vertical-align: middle;\n",
       "    }\n",
       "\n",
       "    .dataframe tbody tr th {\n",
       "        vertical-align: top;\n",
       "    }\n",
       "\n",
       "    .dataframe thead th {\n",
       "        text-align: right;\n",
       "    }\n",
       "</style>\n",
       "<table border=\"1\" class=\"dataframe\">\n",
       "  <thead>\n",
       "    <tr style=\"text-align: right;\">\n",
       "      <th></th>\n",
       "      <th>RSI_14</th>\n",
       "      <th>MACD_12_26_9</th>\n",
       "      <th>MACDh_12_26_9</th>\n",
       "      <th>MACDs_12_26_9</th>\n",
       "      <th>ROC_10</th>\n",
       "      <th>WILLR_14</th>\n",
       "      <th>STOCHRSIk_14_14_3_3</th>\n",
       "      <th>STOCHRSId_14_14_3_3</th>\n",
       "      <th>INERTIA_20_14</th>\n",
       "      <th>DMP_14</th>\n",
       "      <th>...</th>\n",
       "      <th>MACDh_12_26_9</th>\n",
       "      <th>MACDs_12_26_9</th>\n",
       "      <th>ROC_10</th>\n",
       "      <th>WILLR_14</th>\n",
       "      <th>STOCHRSIk_14_14_3_3</th>\n",
       "      <th>STOCHRSId_14_14_3_3</th>\n",
       "      <th>INERTIA_20_14</th>\n",
       "      <th>DMP_14</th>\n",
       "      <th>DMN_14</th>\n",
       "      <th>Target</th>\n",
       "    </tr>\n",
       "    <tr>\n",
       "      <th>Date</th>\n",
       "      <th></th>\n",
       "      <th></th>\n",
       "      <th></th>\n",
       "      <th></th>\n",
       "      <th></th>\n",
       "      <th></th>\n",
       "      <th></th>\n",
       "      <th></th>\n",
       "      <th></th>\n",
       "      <th></th>\n",
       "      <th></th>\n",
       "      <th></th>\n",
       "      <th></th>\n",
       "      <th></th>\n",
       "      <th></th>\n",
       "      <th></th>\n",
       "      <th></th>\n",
       "      <th></th>\n",
       "      <th></th>\n",
       "      <th></th>\n",
       "      <th></th>\n",
       "    </tr>\n",
       "  </thead>\n",
       "  <tbody>\n",
       "    <tr>\n",
       "      <th>2001-01-09</th>\n",
       "      <td>47.930677</td>\n",
       "      <td>0.196231</td>\n",
       "      <td>-0.312678</td>\n",
       "      <td>0.508910</td>\n",
       "      <td>-3.017241</td>\n",
       "      <td>-69.364162</td>\n",
       "      <td>14.640782</td>\n",
       "      <td>9.064332</td>\n",
       "      <td>70.408573</td>\n",
       "      <td>3.648233</td>\n",
       "      <td>...</td>\n",
       "      <td>-0.072581</td>\n",
       "      <td>0.668381</td>\n",
       "      <td>2.307127</td>\n",
       "      <td>-19.047606</td>\n",
       "      <td>44.663730</td>\n",
       "      <td>33.882334</td>\n",
       "      <td>63.504511</td>\n",
       "      <td>3.221142</td>\n",
       "      <td>2.204278</td>\n",
       "      <td>-1.0</td>\n",
       "    </tr>\n",
       "    <tr>\n",
       "      <th>2001-01-10</th>\n",
       "      <td>41.186181</td>\n",
       "      <td>0.035816</td>\n",
       "      <td>-0.378475</td>\n",
       "      <td>0.414291</td>\n",
       "      <td>-6.349206</td>\n",
       "      <td>-93.063584</td>\n",
       "      <td>10.334525</td>\n",
       "      <td>11.073755</td>\n",
       "      <td>66.031602</td>\n",
       "      <td>3.387645</td>\n",
       "      <td>...</td>\n",
       "      <td>-0.094856</td>\n",
       "      <td>0.644667</td>\n",
       "      <td>-6.326529</td>\n",
       "      <td>-48.571418</td>\n",
       "      <td>41.022250</td>\n",
       "      <td>40.737158</td>\n",
       "      <td>64.665545</td>\n",
       "      <td>2.991060</td>\n",
       "      <td>2.476830</td>\n",
       "      <td>-1.0</td>\n",
       "    </tr>\n",
       "    <tr>\n",
       "      <th>2001-01-11</th>\n",
       "      <td>34.228196</td>\n",
       "      <td>-0.227382</td>\n",
       "      <td>-0.513338</td>\n",
       "      <td>0.285957</td>\n",
       "      <td>-10.254854</td>\n",
       "      <td>-98.181818</td>\n",
       "      <td>6.394825</td>\n",
       "      <td>10.456711</td>\n",
       "      <td>60.583955</td>\n",
       "      <td>3.145670</td>\n",
       "      <td>...</td>\n",
       "      <td>-0.139717</td>\n",
       "      <td>0.609738</td>\n",
       "      <td>-13.247011</td>\n",
       "      <td>-70.952389</td>\n",
       "      <td>26.610879</td>\n",
       "      <td>37.432287</td>\n",
       "      <td>63.552753</td>\n",
       "      <td>2.777413</td>\n",
       "      <td>2.719913</td>\n",
       "      <td>-1.0</td>\n",
       "    </tr>\n",
       "    <tr>\n",
       "      <th>2001-01-12</th>\n",
       "      <td>40.877630</td>\n",
       "      <td>-0.346242</td>\n",
       "      <td>-0.505759</td>\n",
       "      <td>0.159517</td>\n",
       "      <td>-9.725537</td>\n",
       "      <td>-82.727273</td>\n",
       "      <td>5.832570</td>\n",
       "      <td>7.520640</td>\n",
       "      <td>57.736051</td>\n",
       "      <td>2.920980</td>\n",
       "      <td>...</td>\n",
       "      <td>-0.181258</td>\n",
       "      <td>0.564423</td>\n",
       "      <td>-8.539344</td>\n",
       "      <td>-82.285722</td>\n",
       "      <td>9.551023</td>\n",
       "      <td>25.728051</td>\n",
       "      <td>60.483361</td>\n",
       "      <td>2.579027</td>\n",
       "      <td>2.905634</td>\n",
       "      <td>-1.0</td>\n",
       "    </tr>\n",
       "    <tr>\n",
       "      <th>2001-01-16</th>\n",
       "      <td>40.107042</td>\n",
       "      <td>-0.450377</td>\n",
       "      <td>-0.487915</td>\n",
       "      <td>0.037538</td>\n",
       "      <td>-10.350982</td>\n",
       "      <td>-85.454545</td>\n",
       "      <td>10.989216</td>\n",
       "      <td>7.738870</td>\n",
       "      <td>53.744497</td>\n",
       "      <td>2.774838</td>\n",
       "      <td>...</td>\n",
       "      <td>-0.226488</td>\n",
       "      <td>0.507801</td>\n",
       "      <td>-17.104859</td>\n",
       "      <td>-91.973700</td>\n",
       "      <td>1.656342</td>\n",
       "      <td>12.606081</td>\n",
       "      <td>55.650165</td>\n",
       "      <td>2.394810</td>\n",
       "      <td>2.978088</td>\n",
       "      <td>-1.0</td>\n",
       "    </tr>\n",
       "  </tbody>\n",
       "</table>\n",
       "<p>5 rows × 254 columns</p>\n",
       "</div>"
      ],
      "text/plain": [
       "               RSI_14  MACD_12_26_9  MACDh_12_26_9  MACDs_12_26_9     ROC_10  \\\n",
       "Date                                                                           \n",
       "2001-01-09  47.930677      0.196231      -0.312678       0.508910  -3.017241   \n",
       "2001-01-10  41.186181      0.035816      -0.378475       0.414291  -6.349206   \n",
       "2001-01-11  34.228196     -0.227382      -0.513338       0.285957 -10.254854   \n",
       "2001-01-12  40.877630     -0.346242      -0.505759       0.159517  -9.725537   \n",
       "2001-01-16  40.107042     -0.450377      -0.487915       0.037538 -10.350982   \n",
       "\n",
       "             WILLR_14  STOCHRSIk_14_14_3_3  STOCHRSId_14_14_3_3  \\\n",
       "Date                                                              \n",
       "2001-01-09 -69.364162            14.640782             9.064332   \n",
       "2001-01-10 -93.063584            10.334525            11.073755   \n",
       "2001-01-11 -98.181818             6.394825            10.456711   \n",
       "2001-01-12 -82.727273             5.832570             7.520640   \n",
       "2001-01-16 -85.454545            10.989216             7.738870   \n",
       "\n",
       "            INERTIA_20_14    DMP_14  ...  MACDh_12_26_9  MACDs_12_26_9  \\\n",
       "Date                                 ...                                 \n",
       "2001-01-09      70.408573  3.648233  ...      -0.072581       0.668381   \n",
       "2001-01-10      66.031602  3.387645  ...      -0.094856       0.644667   \n",
       "2001-01-11      60.583955  3.145670  ...      -0.139717       0.609738   \n",
       "2001-01-12      57.736051  2.920980  ...      -0.181258       0.564423   \n",
       "2001-01-16      53.744497  2.774838  ...      -0.226488       0.507801   \n",
       "\n",
       "               ROC_10   WILLR_14  STOCHRSIk_14_14_3_3  STOCHRSId_14_14_3_3  \\\n",
       "Date                                                                         \n",
       "2001-01-09   2.307127 -19.047606            44.663730            33.882334   \n",
       "2001-01-10  -6.326529 -48.571418            41.022250            40.737158   \n",
       "2001-01-11 -13.247011 -70.952389            26.610879            37.432287   \n",
       "2001-01-12  -8.539344 -82.285722             9.551023            25.728051   \n",
       "2001-01-16 -17.104859 -91.973700             1.656342            12.606081   \n",
       "\n",
       "            INERTIA_20_14    DMP_14    DMN_14  Target  \n",
       "Date                                                   \n",
       "2001-01-09      63.504511  3.221142  2.204278    -1.0  \n",
       "2001-01-10      64.665545  2.991060  2.476830    -1.0  \n",
       "2001-01-11      63.552753  2.777413  2.719913    -1.0  \n",
       "2001-01-12      60.483361  2.579027  2.905634    -1.0  \n",
       "2001-01-16      55.650165  2.394810  2.978088    -1.0  \n",
       "\n",
       "[5 rows x 254 columns]"
      ]
     },
     "execution_count": 10,
     "metadata": {},
     "output_type": "execute_result"
    }
   ],
   "source": [
    "dataframe.head(5)"
   ]
  },
  {
   "cell_type": "markdown",
   "metadata": {},
   "source": [
    "This is the Data! Now I'll save it as a csv file."
   ]
  },
  {
   "cell_type": "code",
   "execution_count": 11,
   "metadata": {},
   "outputs": [],
   "source": [
    "dataframe.to_csv(r\"data/momentum_market_data.csv\")"
   ]
  }
 ],
 "metadata": {
  "kernelspec": {
   "display_name": "Python 3",
   "language": "python",
   "name": "python3"
  },
  "language_info": {
   "codemirror_mode": {
    "name": "ipython",
    "version": 3
   },
   "file_extension": ".py",
   "mimetype": "text/x-python",
   "name": "python",
   "nbconvert_exporter": "python",
   "pygments_lexer": "ipython3",
   "version": "3.7.9"
  }
 },
 "nbformat": 4,
 "nbformat_minor": 4
}
