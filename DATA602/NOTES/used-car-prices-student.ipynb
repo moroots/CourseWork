{
 "cells": [
  {
   "cell_type": "markdown",
   "metadata": {},
   "source": [
    "# Assignment Week 2 \n",
    "Answer each question completely. Include your code and summarize what you see in a brief narrative.\n",
    "\n",
    "### Charting:\n",
    "Remember to make your charts as self-sufficient as possible (i.e., labels, titles, lack of clutter)  "
   ]
  },
  {
   "cell_type": "code",
   "execution_count": 2,
   "metadata": {},
   "outputs": [],
   "source": [
    "import pandas as pd\n",
    "import numpy as np\n",
    "import matplotlib.pyplot as plt\n",
    "%matplotlib inline\n",
    "\n",
    "df = pd.read_csv('car_prices.csv', low_memory=False)"
   ]
  },
  {
   "cell_type": "markdown",
   "metadata": {},
   "source": [
    "# Data Description:\n",
    "- year: year the car was built (e.g., the model year)  \n",
    "- make: the manufacturer. \n",
    "- model: specific model of the car  \n",
    "- trim: subtype of the car model. \n",
    "- body: body style of the car. \n",
    "- transmission: type of transmission  \n",
    "- vin: unique identifier of the car. \n",
    "- state: state car is registered. \n",
    "- condition: numerical rating of the condition, higher is better.  \n",
    "- odometer: number of miles the car has been driven.   \n",
    "- color: color of the car.  \n",
    "- interior: type of interior (e.g., seats). \n",
    "- seller: who sold the car.  \n",
    "- mmr: estimated wholesale price of the car.  \n",
    "- sellingprice: actual sales price of the car.  \n",
    "- saledate: date and time of the sale. "
   ]
  },
  {
   "cell_type": "markdown",
   "metadata": {},
   "source": [
    "# Question 1. Determine the number of missing values in each column."
   ]
  },
  {
   "cell_type": "code",
   "execution_count": 3,
   "metadata": {},
   "outputs": [
    {
     "name": "stdout",
     "output_type": "stream",
     "text": [
      "Number of NaN in each column:\n",
      "year                0\n",
      "make            10301\n",
      "model           10399\n",
      "trim            10651\n",
      "body            13195\n",
      "transmission    65353\n",
      "vin                 4\n",
      "state               0\n",
      "condition       11794\n",
      "odometer           94\n",
      "color             749\n",
      "interior          749\n",
      "seller              0\n",
      "mmr                 0\n",
      "sellingprice        0\n",
      "saledate            0\n",
      "dtype: int64\n"
     ]
    }
   ],
   "source": [
    "# code\n",
    "print(f\"Number of NaN in each column:\\n{df.isnull().sum()}\")"
   ]
  },
  {
   "cell_type": "markdown",
   "metadata": {},
   "source": [
    "The data spans a wide date range from 1982 to 2015 contains no null entries in columns for year, state, seller, mmr, sellingprice, or saledar. However, there are thousands of null entries for make, model, trim, body, transmission, and condition."
   ]
  },
  {
   "cell_type": "markdown",
   "metadata": {},
   "source": [
    "# Question 2. Check the data types. Which columns are coded to the incorrect type? If any, correct them."
   ]
  },
  {
   "cell_type": "code",
   "execution_count": 4,
   "metadata": {
    "scrolled": false
   },
   "outputs": [
    {
     "name": "stdout",
     "output_type": "stream",
     "text": [
      "<class 'pandas.core.frame.DataFrame'>\n",
      "RangeIndex: 558837 entries, 0 to 558836\n",
      "Data columns (total 16 columns):\n",
      " #   Column        Non-Null Count   Dtype  \n",
      "---  ------        --------------   -----  \n",
      " 0   year          558837 non-null  int64  \n",
      " 1   make          548536 non-null  object \n",
      " 2   model         548438 non-null  object \n",
      " 3   trim          548186 non-null  object \n",
      " 4   body          545642 non-null  object \n",
      " 5   transmission  493484 non-null  object \n",
      " 6   vin           558833 non-null  object \n",
      " 7   state         558837 non-null  object \n",
      " 8   condition     547043 non-null  object \n",
      " 9   odometer      558743 non-null  float64\n",
      " 10  color         558088 non-null  object \n",
      " 11  interior      558088 non-null  object \n",
      " 12  seller        558837 non-null  object \n",
      " 13  mmr           558837 non-null  object \n",
      " 14  sellingprice  558837 non-null  int64  \n",
      " 15  saledate      558837 non-null  object \n",
      "dtypes: float64(1), int64(2), object(13)\n",
      "memory usage: 68.2+ MB\n"
     ]
    }
   ],
   "source": [
    "#code\n",
    "df.info()"
   ]
  },
  {
   "cell_type": "markdown",
   "metadata": {},
   "source": [
    "_**Table 2**: Propoerties of imported data. Column refers to the names of each data column. Non-Null County refers to the number of data points in each data column that is either float64, int64, or an object variable. Dtype referes to the data storage type for each data data column._\n",
    "\n",
    "Many of the values in the data were imported as objects when the would be easier to work with as strings, or in the case of saledate as datetime or timestamp."
   ]
  },
  {
   "cell_type": "code",
   "execution_count": 5,
   "metadata": {
    "scrolled": true
   },
   "outputs": [
    {
     "data": {
      "text/html": [
       "<div>\n",
       "<style scoped>\n",
       "    .dataframe tbody tr th:only-of-type {\n",
       "        vertical-align: middle;\n",
       "    }\n",
       "\n",
       "    .dataframe tbody tr th {\n",
       "        vertical-align: top;\n",
       "    }\n",
       "\n",
       "    .dataframe thead th {\n",
       "        text-align: right;\n",
       "    }\n",
       "</style>\n",
       "<table border=\"1\" class=\"dataframe\">\n",
       "  <thead>\n",
       "    <tr style=\"text-align: right;\">\n",
       "      <th></th>\n",
       "      <th>year</th>\n",
       "      <th>make</th>\n",
       "      <th>model</th>\n",
       "      <th>trim</th>\n",
       "      <th>body</th>\n",
       "      <th>transmission</th>\n",
       "      <th>vin</th>\n",
       "      <th>state</th>\n",
       "      <th>condition</th>\n",
       "      <th>odometer</th>\n",
       "      <th>color</th>\n",
       "      <th>interior</th>\n",
       "      <th>seller</th>\n",
       "      <th>mmr</th>\n",
       "      <th>sellingprice</th>\n",
       "      <th>saledate</th>\n",
       "    </tr>\n",
       "  </thead>\n",
       "  <tbody>\n",
       "    <tr>\n",
       "      <th>0</th>\n",
       "      <td>2015</td>\n",
       "      <td>Kia</td>\n",
       "      <td>Sorento</td>\n",
       "      <td>LX</td>\n",
       "      <td>SUV</td>\n",
       "      <td>automatic</td>\n",
       "      <td>5xyktca69fg566472</td>\n",
       "      <td>ca</td>\n",
       "      <td>5</td>\n",
       "      <td>16639.0</td>\n",
       "      <td>white</td>\n",
       "      <td>black</td>\n",
       "      <td>kia motors america, inc</td>\n",
       "      <td>20500</td>\n",
       "      <td>21500</td>\n",
       "      <td>Tue Dec 16 2014 12:30:00 GMT-0800 (PST)</td>\n",
       "    </tr>\n",
       "    <tr>\n",
       "      <th>1</th>\n",
       "      <td>2015</td>\n",
       "      <td>Kia</td>\n",
       "      <td>Sorento</td>\n",
       "      <td>LX</td>\n",
       "      <td>SUV</td>\n",
       "      <td>automatic</td>\n",
       "      <td>5xyktca69fg561319</td>\n",
       "      <td>ca</td>\n",
       "      <td>5</td>\n",
       "      <td>9393.0</td>\n",
       "      <td>white</td>\n",
       "      <td>beige</td>\n",
       "      <td>kia motors america, inc</td>\n",
       "      <td>20800</td>\n",
       "      <td>21500</td>\n",
       "      <td>Tue Dec 16 2014 12:30:00 GMT-0800 (PST)</td>\n",
       "    </tr>\n",
       "    <tr>\n",
       "      <th>2</th>\n",
       "      <td>2014</td>\n",
       "      <td>BMW</td>\n",
       "      <td>3 Series</td>\n",
       "      <td>328i SULEV</td>\n",
       "      <td>Sedan</td>\n",
       "      <td>automatic</td>\n",
       "      <td>wba3c1c51ek116351</td>\n",
       "      <td>ca</td>\n",
       "      <td>4.5</td>\n",
       "      <td>1331.0</td>\n",
       "      <td>gray</td>\n",
       "      <td>black</td>\n",
       "      <td>financial services remarketing (lease)</td>\n",
       "      <td>31900</td>\n",
       "      <td>30000</td>\n",
       "      <td>Thu Jan 15 2015 04:30:00 GMT-0800 (PST)</td>\n",
       "    </tr>\n",
       "    <tr>\n",
       "      <th>3</th>\n",
       "      <td>2015</td>\n",
       "      <td>Volvo</td>\n",
       "      <td>S60</td>\n",
       "      <td>T5</td>\n",
       "      <td>Sedan</td>\n",
       "      <td>automatic</td>\n",
       "      <td>yv1612tb4f1310987</td>\n",
       "      <td>ca</td>\n",
       "      <td>4.1</td>\n",
       "      <td>14282.0</td>\n",
       "      <td>white</td>\n",
       "      <td>black</td>\n",
       "      <td>volvo na rep/world omni</td>\n",
       "      <td>27500</td>\n",
       "      <td>27750</td>\n",
       "      <td>Thu Jan 29 2015 04:30:00 GMT-0800 (PST)</td>\n",
       "    </tr>\n",
       "    <tr>\n",
       "      <th>4</th>\n",
       "      <td>2014</td>\n",
       "      <td>BMW</td>\n",
       "      <td>6 Series Gran Coupe</td>\n",
       "      <td>650i</td>\n",
       "      <td>Sedan</td>\n",
       "      <td>automatic</td>\n",
       "      <td>wba6b2c57ed129731</td>\n",
       "      <td>ca</td>\n",
       "      <td>4.3</td>\n",
       "      <td>2641.0</td>\n",
       "      <td>gray</td>\n",
       "      <td>black</td>\n",
       "      <td>financial services remarketing (lease)</td>\n",
       "      <td>66000</td>\n",
       "      <td>67000</td>\n",
       "      <td>Thu Dec 18 2014 12:30:00 GMT-0800 (PST)</td>\n",
       "    </tr>\n",
       "  </tbody>\n",
       "</table>\n",
       "</div>"
      ],
      "text/plain": [
       "   year   make                model        trim   body transmission  \\\n",
       "0  2015    Kia              Sorento          LX    SUV    automatic   \n",
       "1  2015    Kia              Sorento          LX    SUV    automatic   \n",
       "2  2014    BMW             3 Series  328i SULEV  Sedan    automatic   \n",
       "3  2015  Volvo                  S60          T5  Sedan    automatic   \n",
       "4  2014    BMW  6 Series Gran Coupe        650i  Sedan    automatic   \n",
       "\n",
       "                 vin state condition  odometer  color interior  \\\n",
       "0  5xyktca69fg566472    ca         5   16639.0  white    black   \n",
       "1  5xyktca69fg561319    ca         5    9393.0  white    beige   \n",
       "2  wba3c1c51ek116351    ca       4.5    1331.0   gray    black   \n",
       "3  yv1612tb4f1310987    ca       4.1   14282.0  white    black   \n",
       "4  wba6b2c57ed129731    ca       4.3    2641.0   gray    black   \n",
       "\n",
       "                                   seller    mmr  sellingprice  \\\n",
       "0                 kia motors america, inc  20500         21500   \n",
       "1                 kia motors america, inc  20800         21500   \n",
       "2  financial services remarketing (lease)  31900         30000   \n",
       "3                 volvo na rep/world omni  27500         27750   \n",
       "4  financial services remarketing (lease)  66000         67000   \n",
       "\n",
       "                                  saledate  \n",
       "0  Tue Dec 16 2014 12:30:00 GMT-0800 (PST)  \n",
       "1  Tue Dec 16 2014 12:30:00 GMT-0800 (PST)  \n",
       "2  Thu Jan 15 2015 04:30:00 GMT-0800 (PST)  \n",
       "3  Thu Jan 29 2015 04:30:00 GMT-0800 (PST)  \n",
       "4  Thu Dec 18 2014 12:30:00 GMT-0800 (PST)  "
      ]
     },
     "execution_count": 5,
     "metadata": {},
     "output_type": "execute_result"
    }
   ],
   "source": [
    "df.head()"
   ]
  },
  {
   "cell_type": "markdown",
   "metadata": {},
   "source": [
    "_**Table 3**: Displays 5 rows of the dataframe. From here it is easy to see that the columns that are shown as object datatypes from Table 2 would be more beneficial stored as strings._ "
   ]
  },
  {
   "cell_type": "markdown",
   "metadata": {},
   "source": [
    "# Question 3. Analyze the 'make' column. Comment on what you observe. Clean the column to reduce the number of unique values to as few as reasonably possible (no hard coding). \n",
    "Hint: What do you notice if you run this:\n",
    "```python\n",
    "# makes = df.make.unique().tolist()\n",
    "# makes = [str(x).lower() for x in makes]\n",
    "# sorted(makes)\n",
    "```"
   ]
  },
  {
   "cell_type": "code",
   "execution_count": 26,
   "metadata": {},
   "outputs": [
    {
     "name": "stdout",
     "output_type": "stream",
     "text": [
      "97\n",
      "67\n",
      "acura\n",
      "airstream\n",
      "aston martin\n",
      "audi\n",
      "bentley\n",
      "bmw\n",
      "buick\n",
      "cadillac\n",
      "chev truck\n",
      "chevrolet\n",
      "chrysler\n",
      "daewoo\n",
      "dodge\n",
      "dodge tk\n",
      "dot\n",
      "ferrari\n",
      "fiat\n",
      "fisker\n",
      "ford\n",
      "ford tk\n",
      "ford truck\n",
      "geo\n",
      "gmc\n",
      "gmc truck\n",
      "honda\n",
      "hummer\n",
      "hyundai\n",
      "hyundai tk\n",
      "infiniti\n",
      "isuzu\n",
      "jaguar\n",
      "jeep\n",
      "kia\n",
      "lamborghini\n",
      "land rover\n",
      "landrover\n",
      "lexus\n",
      "lincoln\n",
      "lotus\n",
      "maserati\n",
      "mazda\n",
      "mazda tk\n",
      "mercedes\n",
      "mercedes-b\n",
      "mercedes-benz\n",
      "mercury\n",
      "mini\n",
      "mitsubishi\n",
      "nan\n",
      "nissan\n",
      "oldsmobile\n",
      "plymouth\n",
      "pontiac\n",
      "porsche\n",
      "ram\n",
      "rolls-royce\n",
      "saab\n",
      "saturn\n",
      "scion\n",
      "smart\n",
      "subaru\n",
      "suzuki\n",
      "tesla\n",
      "toyota\n",
      "volkswagen\n",
      "volvo\n",
      "vw\n"
     ]
    }
   ],
   "source": [
    "# code\n",
    "\n",
    "makes = [str(x).lower() for x in df.make.unique()]; print(len(makes))\n",
    "makes = np.unique(makes); print(len(makes))\n",
    "for make in makes: print(make)"
   ]
  },
  {
   "cell_type": "markdown",
   "metadata": {},
   "source": [
    "The 'make' column of the dataframe contains many redundant entries. Even after preliminary cleaning where the number of unique values was reduced from 97 to 67, the list of makes presented above retains some inherent redundant names that must be fixed for hardcoding. "
   ]
  },
  {
   "cell_type": "markdown",
   "metadata": {},
   "source": [
    "# Question 4. Analyze the relationship between the wholeprice 'mmr' and the sales price. What is the overall correlation? What happens to the correlation as you increase the maximum selling price window (e.g., 0-10000, 0-20000,...)?\n",
    "- Create a scatter plot with the relationship.  \n",
    "- Create a graph that shows how the correlation changes."
   ]
  },
  {
   "cell_type": "code",
   "execution_count": 28,
   "metadata": {},
   "outputs": [
    {
     "name": "stdout",
     "output_type": "stream",
     "text": [
      "['100' '1000' '10000' ... 'sixt rent a car llc' 'tdaf remarketing'\n",
      " 'vw credit prequalified']\n"
     ]
    }
   ],
   "source": [
    "#code \n",
    "\n",
    "def uniques(series):\n",
    "    new = [str(x).lower() for x in series.unique()]\n",
    "    new = np.unique(new)\n",
    "    return new\n",
    "\n",
    "test = uniques(df.mmr)\n",
    "print(test)\n",
    "#convert 'mmr' to int64\n",
    "# df.mmr = pd.to_numeric(df.mmr)\n",
    "# plt.figure()\n",
    "# plt.scatter(df.mmr, df.sellingprice)\n",
    "# plt.show()\n"
   ]
  },
  {
   "cell_type": "markdown",
   "metadata": {},
   "source": [
    "Sample narrative description."
   ]
  },
  {
   "cell_type": "markdown",
   "metadata": {},
   "source": [
    "# Question 5. How does the distribution of sales price vary by make for cars made between 2010-2015? Use the 10 most common makes (your cleaned version of this column). Create a graph that answers this question."
   ]
  },
  {
   "cell_type": "code",
   "execution_count": 5,
   "metadata": {},
   "outputs": [],
   "source": [
    "# code"
   ]
  },
  {
   "cell_type": "markdown",
   "metadata": {},
   "source": [
    "Sample narrative description."
   ]
  }
 ],
 "metadata": {
  "kernelspec": {
   "display_name": "Python 3",
   "language": "python",
   "name": "python3"
  },
  "language_info": {
   "codemirror_mode": {
    "name": "ipython",
    "version": 3
   },
   "file_extension": ".py",
   "mimetype": "text/x-python",
   "name": "python",
   "nbconvert_exporter": "python",
   "pygments_lexer": "ipython3",
   "version": "3.8.8"
  }
 },
 "nbformat": 4,
 "nbformat_minor": 4
}
