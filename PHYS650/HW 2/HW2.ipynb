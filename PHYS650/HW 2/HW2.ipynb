{
 "cells": [
  {
   "cell_type": "markdown",
   "id": "05aa3246-7cf9-481b-b9d8-e4aa9d4b15cb",
   "metadata": {},
   "source": [
    "# PHYS 650 Homework 2\n",
    "Data for this assignment are available in this folder. "
   ]
  },
  {
   "cell_type": "markdown",
   "id": "88a33d0e-9113-4522-bf7f-22fc607ce3eb",
   "metadata": {},
   "source": [
    "---\n",
    "### 1) From the radiosonde file provided, generate a SKew-T plot/diagram. You can use this available, Python resource: https://unidata.github.io/MetPy/latest/api/generated/metpy.plots.SkewT.html"
   ]
  },
  {
   "cell_type": "code",
   "execution_count": 1,
   "id": "a93267ec-27f4-43d6-9264-3f3c1206559d",
   "metadata": {},
   "outputs": [],
   "source": [
    "from metpy.calc import mixing_ratio_from_relative_humidity as mixing_ratio\n",
    "from metpy.calc import vapor_pressure as vapor_pressure\n",
    "from metpy.calc import potential_temperature as Theta\n",
    "from metpy.calc import dewpoint as dewpoint\n",
    "\n",
    "import matplotlib.pyplot as plt\n",
    "from metpy.units import units\n",
    "import metpy.plots as plots\n",
    "import pandas as pd\n",
    "import numpy as np\n",
    "import copy as cp\n",
    "\n",
    "%matplotlib inline"
   ]
  },
  {
   "cell_type": "markdown",
   "id": "519b3413-905d-40d8-8dff-66b8e695ec8a",
   "metadata": {},
   "source": [
    "Importing the data from the file (HUBV_RS41GP_20220316.txt) was a little tricky. There are some very important things to consider when importing this dataset. Be sure to ACTUALLY look through the file first. \n",
    "Note that...\n",
    "- The entire file is double spaced!\n",
    "- The file has few sections separated by blank space\n",
    "- The data we will use is from lines 18 - 13509"
   ]
  },
  {
   "cell_type": "code",
   "execution_count": 2,
   "id": "b6dc4222-abc0-4694-a793-a50d9ca0ea09",
   "metadata": {},
   "outputs": [
    {
     "data": {
      "text/plain": [
       "Index(['Time', 'Height', 'Pressure', 'Temp', 'Humidity', 'WDir', 'WSpeed',\n",
       "       'Lat', 'Lon'],\n",
       "      dtype='object')"
      ]
     },
     "execution_count": 2,
     "metadata": {},
     "output_type": "execute_result"
    }
   ],
   "source": [
    "df = pd.read_csv(r\"HUBV_RS41GP_20220316.txt\", \n",
    "                 skiprows=14,           # Lets skip the intro and go straigh to line 15 \n",
    "                 header=0,              # The first line read is the column names (headers) \n",
    "                 sep=\"\\s+\",             # The columns are seperated (sep) by spaces that vary in size (\\s+)\n",
    "                 nrows=6746)            # Look in the file to understand this one: (13509 - 17) / 2 = 6476\n",
    "\n",
    "df.columns"
   ]
  },
  {
   "cell_type": "code",
   "execution_count": 3,
   "id": "a604194d-2697-4e30-aeeb-ff939efafc3c",
   "metadata": {},
   "outputs": [
    {
     "data": {
      "text/html": [
       "<div>\n",
       "<style scoped>\n",
       "    .dataframe tbody tr th:only-of-type {\n",
       "        vertical-align: middle;\n",
       "    }\n",
       "\n",
       "    .dataframe tbody tr th {\n",
       "        vertical-align: top;\n",
       "    }\n",
       "\n",
       "    .dataframe thead th {\n",
       "        text-align: right;\n",
       "    }\n",
       "</style>\n",
       "<table border=\"1\" class=\"dataframe\">\n",
       "  <thead>\n",
       "    <tr style=\"text-align: right;\">\n",
       "      <th></th>\n",
       "      <th>Time</th>\n",
       "      <th>Height</th>\n",
       "      <th>Pressure</th>\n",
       "      <th>Temp</th>\n",
       "      <th>Humidity</th>\n",
       "      <th>WDir</th>\n",
       "      <th>WSpeed</th>\n",
       "      <th>Lat</th>\n",
       "      <th>Lon</th>\n",
       "    </tr>\n",
       "  </thead>\n",
       "  <tbody>\n",
       "    <tr>\n",
       "      <th>0</th>\n",
       "      <td>0.0</td>\n",
       "      <td>52</td>\n",
       "      <td>1014.9</td>\n",
       "      <td>22.9</td>\n",
       "      <td>26.7</td>\n",
       "      <td>96.0</td>\n",
       "      <td>2.1</td>\n",
       "      <td>39.0563</td>\n",
       "      <td>-76.8755</td>\n",
       "    </tr>\n",
       "    <tr>\n",
       "      <th>1</th>\n",
       "      <td>1.3</td>\n",
       "      <td>57</td>\n",
       "      <td>1014.4</td>\n",
       "      <td>21.9</td>\n",
       "      <td>28.9</td>\n",
       "      <td>117.4</td>\n",
       "      <td>2.3</td>\n",
       "      <td>39.0563</td>\n",
       "      <td>-76.8757</td>\n",
       "    </tr>\n",
       "    <tr>\n",
       "      <th>2</th>\n",
       "      <td>2.3</td>\n",
       "      <td>63</td>\n",
       "      <td>1013.7</td>\n",
       "      <td>21.3</td>\n",
       "      <td>28.5</td>\n",
       "      <td>119.8</td>\n",
       "      <td>2.6</td>\n",
       "      <td>39.0563</td>\n",
       "      <td>-76.8757</td>\n",
       "    </tr>\n",
       "    <tr>\n",
       "      <th>3</th>\n",
       "      <td>3.3</td>\n",
       "      <td>70</td>\n",
       "      <td>1012.9</td>\n",
       "      <td>21.1</td>\n",
       "      <td>29.0</td>\n",
       "      <td>119.8</td>\n",
       "      <td>2.8</td>\n",
       "      <td>39.0563</td>\n",
       "      <td>-76.8757</td>\n",
       "    </tr>\n",
       "    <tr>\n",
       "      <th>4</th>\n",
       "      <td>4.3</td>\n",
       "      <td>78</td>\n",
       "      <td>1012.0</td>\n",
       "      <td>20.8</td>\n",
       "      <td>29.3</td>\n",
       "      <td>119.1</td>\n",
       "      <td>3.1</td>\n",
       "      <td>39.0563</td>\n",
       "      <td>-76.8757</td>\n",
       "    </tr>\n",
       "  </tbody>\n",
       "</table>\n",
       "</div>"
      ],
      "text/plain": [
       "   Time  Height  Pressure  Temp  Humidity   WDir  WSpeed      Lat      Lon\n",
       "0   0.0      52    1014.9  22.9      26.7   96.0     2.1  39.0563 -76.8755\n",
       "1   1.3      57    1014.4  21.9      28.9  117.4     2.3  39.0563 -76.8757\n",
       "2   2.3      63    1013.7  21.3      28.5  119.8     2.6  39.0563 -76.8757\n",
       "3   3.3      70    1012.9  21.1      29.0  119.8     2.8  39.0563 -76.8757\n",
       "4   4.3      78    1012.0  20.8      29.3  119.1     3.1  39.0563 -76.8757"
      ]
     },
     "execution_count": 3,
     "metadata": {},
     "output_type": "execute_result"
    }
   ],
   "source": [
    "df.head()"
   ]
  },
  {
   "cell_type": "markdown",
   "id": "d11cd649-7543-47de-83f2-51842f715e94",
   "metadata": {},
   "source": [
    "To make sure that the data was imported correctly, just check the last entry with the file. Tis the beauty of text... "
   ]
  },
  {
   "cell_type": "code",
   "execution_count": 4,
   "id": "197fe226-e85d-4a48-a347-9457e586796e",
   "metadata": {},
   "outputs": [
    {
     "data": {
      "text/plain": [
       "Time         6747.3000\n",
       "Height      14748.0000\n",
       "Pressure      128.1000\n",
       "Temp          -62.0000\n",
       "Humidity        2.4000\n",
       "WDir          261.2000\n",
       "WSpeed         15.6000\n",
       "Lat            39.2140\n",
       "Lon           -75.5889\n",
       "Name: 6745, dtype: float64"
      ]
     },
     "execution_count": 4,
     "metadata": {},
     "output_type": "execute_result"
    }
   ],
   "source": [
    "df.iloc[-1]"
   ]
  },
  {
   "cell_type": "code",
   "execution_count": 5,
   "id": "9ef917d3-84e1-483a-b232-c7f916c2ea1b",
   "metadata": {},
   "outputs": [
    {
     "ename": "AttributeError",
     "evalue": "'DataFrame' object has no attribute 'MixingRatio'",
     "output_type": "error",
     "traceback": [
      "\u001b[1;31m---------------------------------------------------------------------------\u001b[0m",
      "\u001b[1;31mAttributeError\u001b[0m                            Traceback (most recent call last)",
      "\u001b[1;32m~\\AppData\\Local\\Temp/ipykernel_18496/3698664593.py\u001b[0m in \u001b[0;36m<module>\u001b[1;34m\u001b[0m\n\u001b[0;32m      2\u001b[0m \u001b[0mrh\u001b[0m \u001b[1;33m=\u001b[0m \u001b[1;33m(\u001b[0m\u001b[0mnp\u001b[0m\u001b[1;33m.\u001b[0m\u001b[0marray\u001b[0m\u001b[1;33m(\u001b[0m\u001b[0mdf\u001b[0m\u001b[1;33m.\u001b[0m\u001b[0mHumidity\u001b[0m\u001b[1;33m)\u001b[0m \u001b[1;33m/\u001b[0m \u001b[1;36m100.\u001b[0m\u001b[1;33m)\u001b[0m\u001b[1;33m\u001b[0m\u001b[1;33m\u001b[0m\u001b[0m\n\u001b[0;32m      3\u001b[0m \u001b[0mpress\u001b[0m \u001b[1;33m=\u001b[0m \u001b[1;33m(\u001b[0m\u001b[0mnp\u001b[0m\u001b[1;33m.\u001b[0m\u001b[0marray\u001b[0m\u001b[1;33m(\u001b[0m\u001b[0mdf\u001b[0m\u001b[1;33m.\u001b[0m\u001b[0mPressure\u001b[0m\u001b[1;33m)\u001b[0m \u001b[1;33m*\u001b[0m \u001b[0munits\u001b[0m\u001b[1;33m.\u001b[0m\u001b[0mhPa\u001b[0m\u001b[1;33m)\u001b[0m\u001b[1;33m\u001b[0m\u001b[1;33m\u001b[0m\u001b[0m\n\u001b[1;32m----> 4\u001b[1;33m \u001b[0mvp\u001b[0m \u001b[1;33m=\u001b[0m \u001b[0mvapor_pressure\u001b[0m\u001b[1;33m(\u001b[0m\u001b[0mpress\u001b[0m\u001b[1;33m,\u001b[0m \u001b[0mnp\u001b[0m\u001b[1;33m.\u001b[0m\u001b[0marray\u001b[0m\u001b[1;33m(\u001b[0m\u001b[0mdf\u001b[0m\u001b[1;33m.\u001b[0m\u001b[0mMixingRatio\u001b[0m\u001b[1;33m)\u001b[0m\u001b[1;33m)\u001b[0m\u001b[1;33m\u001b[0m\u001b[1;33m\u001b[0m\u001b[0m\n\u001b[0m\u001b[0;32m      5\u001b[0m \u001b[0mdp\u001b[0m \u001b[1;33m=\u001b[0m \u001b[0mdewpoint\u001b[0m\u001b[1;33m(\u001b[0m\u001b[0mvp\u001b[0m\u001b[1;33m)\u001b[0m\u001b[1;33m\u001b[0m\u001b[1;33m\u001b[0m\u001b[0m\n\u001b[0;32m      6\u001b[0m \u001b[1;33m\u001b[0m\u001b[0m\n",
      "\u001b[1;32m~\\anaconda3\\envs\\datas_test\\lib\\site-packages\\pandas\\core\\generic.py\u001b[0m in \u001b[0;36m__getattr__\u001b[1;34m(self, name)\u001b[0m\n\u001b[0;32m   5573\u001b[0m         ):\n\u001b[0;32m   5574\u001b[0m             \u001b[1;32mreturn\u001b[0m \u001b[0mself\u001b[0m\u001b[1;33m[\u001b[0m\u001b[0mname\u001b[0m\u001b[1;33m]\u001b[0m\u001b[1;33m\u001b[0m\u001b[1;33m\u001b[0m\u001b[0m\n\u001b[1;32m-> 5575\u001b[1;33m         \u001b[1;32mreturn\u001b[0m \u001b[0mobject\u001b[0m\u001b[1;33m.\u001b[0m\u001b[0m__getattribute__\u001b[0m\u001b[1;33m(\u001b[0m\u001b[0mself\u001b[0m\u001b[1;33m,\u001b[0m \u001b[0mname\u001b[0m\u001b[1;33m)\u001b[0m\u001b[1;33m\u001b[0m\u001b[1;33m\u001b[0m\u001b[0m\n\u001b[0m\u001b[0;32m   5576\u001b[0m \u001b[1;33m\u001b[0m\u001b[0m\n\u001b[0;32m   5577\u001b[0m     \u001b[1;32mdef\u001b[0m \u001b[0m__setattr__\u001b[0m\u001b[1;33m(\u001b[0m\u001b[0mself\u001b[0m\u001b[1;33m,\u001b[0m \u001b[0mname\u001b[0m\u001b[1;33m:\u001b[0m \u001b[0mstr\u001b[0m\u001b[1;33m,\u001b[0m \u001b[0mvalue\u001b[0m\u001b[1;33m)\u001b[0m \u001b[1;33m->\u001b[0m \u001b[1;32mNone\u001b[0m\u001b[1;33m:\u001b[0m\u001b[1;33m\u001b[0m\u001b[1;33m\u001b[0m\u001b[0m\n",
      "\u001b[1;31mAttributeError\u001b[0m: 'DataFrame' object has no attribute 'MixingRatio'"
     ]
    }
   ],
   "source": [
    "temp = (np.array(df.Temp) * units.degC).to(units.K)\n",
    "rh = (np.array(df.Humidity) / 100.)\n",
    "press = (np.array(df.Pressure) * units.hPa)\n",
    "vp = vapor_pressure(press, np.array(df.MixingRatio))\n",
    "dp = dewpoint(vp)\n",
    "\n",
    "df[\"Theta\"] = Theta(press, temp)\n",
    "df[\"MixingRatio\"] = mixing_ratio(press, temp, rh)\n",
    "df[\"VaporPressure\"] = vp\n",
    "df[\"Dewpoint\"] = dp\n",
    "df[\"q\"] = Theta(press, dp)\n",
    "df[\"N\"] = [((77.6 * (df.Pressure[i] / (df.Temp[i] + 273.15))) + ((3.72 * 10**5) * (df.VaporPressure[i] / ((df.Temp[i] + 273.15)**2)))) for i in np.arange(0, len(df))]"
   ]
  },
  {
   "cell_type": "code",
   "execution_count": null,
   "id": "a8feecb4-cabf-422d-a5a9-9d1cc63583d2",
   "metadata": {},
   "outputs": [],
   "source": [
    "df.head()"
   ]
  },
  {
   "cell_type": "code",
   "execution_count": null,
   "id": "5d7595bc-0b16-4361-99c9-f6ca6e74e467",
   "metadata": {},
   "outputs": [],
   "source": [
    "fig = plt.figure(figsize=(10, 10))\n",
    "skew = plots.SkewT(fig)\n",
    "\n",
    "# Sometimes sonde data is still transmitted on the decent. by slicing with \"0:df.Height.idxmax()\" we are only use data upto the max hiehgt.\n",
    "skew.plot(df.Pressure[0:df.Height.idxmax()], df.Temp[0:df.Height.idxmax()], \"red\", label=\"Temperature\") \n",
    "skew.plot(df.Pressure[0:df.Height.idxmax()], df.Dewpoint[0:df.Height.idxmax()], \"green\", label=\"Dewpoint\")\n",
    "\n",
    "skew.ax.set_ylim(1020, 10)\n",
    "skew.ax.set_xlim(-100, 50)\n",
    "\n",
    "skew.ax.set_ylabel(\"Pressure (hPa)\")\n",
    "skew.ax.set_xlabel(\"Temperature (deg C)\")\n",
    "\n",
    "skew.ax.legend()\n",
    "skew.ax.set_title(\"HU-Beltsville Met-Sonde (RS41) 2022/03/16\")\n",
    "plt.show()"
   ]
  },
  {
   "cell_type": "markdown",
   "id": "3a75ee67-941b-4f0b-8713-023bc0ceddc9",
   "metadata": {},
   "source": [
    "Plotted here is the Temprerauter profile measured by the Vaisala RS41 Met-Sonde launched from Howard University Beltsville Campus on 03/16/2022. \n",
    "\n",
    "The figure shows an temperature inversion at the 800hPa pressure level. Clouds are most likely located between 800 hPa - 700 hPa. "
   ]
  },
  {
   "cell_type": "markdown",
   "id": "c0d13898-2c36-48ba-9cc9-5ee3c08be32b",
   "metadata": {
    "tags": []
   },
   "source": [
    "---\n",
    "### 2) Determine the Environmental Lapse Rate (Γe = - ΔT/Δz) for this sounding?"
   ]
  },
  {
   "cell_type": "code",
   "execution_count": null,
   "id": "5507397b-cdc1-44d6-9f74-ef42db049dd8",
   "metadata": {},
   "outputs": [],
   "source": [
    "df.loc[df.Pressure <= 1000] # (idx, pressure, height) (26, 999.6, 183)\n",
    "df.loc[df.Height >= 1183] # (idx, pressure, height) (187, 887.5, 1185)"
   ]
  },
  {
   "cell_type": "code",
   "execution_count": null,
   "id": "cc460e17-927c-45d2-86c3-9b5cd81877e3",
   "metadata": {},
   "outputs": [],
   "source": [
    "Temp = np.array([df.Temp.iloc[187], df.Temp.iloc[26]])\n",
    "L = (Temp[1] - Temp[0]); print(-round(L, 2))\n",
    "adL1 = (-10)"
   ]
  },
  {
   "cell_type": "markdown",
   "id": "e8075ebb-1902-4ee0-ab05-38fe98d625bf",
   "metadata": {},
   "source": [
    "The the Environmental Lapse rate is ~ 10.1 C/Km. "
   ]
  },
  {
   "cell_type": "markdown",
   "id": "5c05f2db-7ac4-4668-85c3-4e99e27c02d3",
   "metadata": {
    "tags": []
   },
   "source": [
    "---\n",
    "### 3) Given that the Dry and Moist Adiabatic Lapse Rate are 10°C/1km and 6 °C/1km, respectively, how would you categorize the static stability of the atmosphere at the time of the sounding?"
   ]
  },
  {
   "cell_type": "code",
   "execution_count": null,
   "id": "122533ad-1041-4c55-8009-28bc3affacaf",
   "metadata": {},
   "outputs": [],
   "source": [
    "alt = np.arange(0, 11, 1)\n",
    "eL = [df.Temp.iloc[0]]\n",
    "dL = [df.Temp.iloc[0]]\n",
    "mL = [df.Temp.iloc[0]]\n",
    "for i in alt[1::]:\n",
    "    eL.append(eL[i-1] + (-L))\n",
    "    dL.append(adL[i-1] + (-10))\n",
    "    mL.append(mL[i-1] + (-6))"
   ]
  },
  {
   "cell_type": "code",
   "execution_count": null,
   "id": "aebac2da-5a40-4468-beb0-9c0d34195b0c",
   "metadata": {},
   "outputs": [],
   "source": [
    "plt.figure(figsize=(10, 10))\n",
    "plt.plot(eL, alt, \"k\", label=\"Environmental Lapse Rate\")\n",
    "plt.plot(dL, alt, \"r--\", label=\"Dry Adiabatic Lapse Rate\")\n",
    "plt.plot(mL, alt, \"b--\", label=\"Moist Adiabatic Lapse Rate\")\n",
    "plt.grid(True)\n",
    "plt.ylim(0, 10)\n",
    "plt.legend()\n",
    "\n",
    "# Unstable\n",
    "t = plt.text(\n",
    "    -60, 4, \"Unstable\", ha=\"center\", va=\"center\", size=15,\n",
    "    bbox=dict(boxstyle=\"rarrow,pad=0.3\", fc=\"red\", ec=\"k\", lw=2))\n",
    "\n",
    "bb = t.get_bbox_patch()\n",
    "bb.set_boxstyle(\"round\", pad=0.6)\n",
    "\n",
    "# Conditionaly Unstable\n",
    "t = plt.text(\n",
    "    -40, 8, \"Conditionaly \\n Unstable\", ha=\"center\", va=\"center\", size=15,\n",
    "    bbox=dict(boxstyle=\"rarrow,pad=0.3\", fc=\"violet\", ec=\"k\", lw=2))\n",
    "\n",
    "bb = t.get_bbox_patch()\n",
    "bb.set_boxstyle(\"round\", pad=0.6)\n",
    "\n",
    "# Stable\n",
    "t = plt.text(\n",
    "    0, 8, \"Stable\", ha=\"center\", va=\"center\", size=15,\n",
    "    bbox=dict(boxstyle=\"rarrow,pad=0.3\", fc=\"skyblue\", ec=\"k\", lw=2))\n",
    "\n",
    "bb = t.get_bbox_patch()\n",
    "bb.set_boxstyle(\"round\", pad=0.6)\n",
    "\n",
    "plt.show()"
   ]
  },
  {
   "cell_type": "code",
   "execution_count": null,
   "id": "09c0b3ee-cd8d-46ac-980c-baa81e16e311",
   "metadata": {},
   "outputs": [],
   "source": [
    "fig = plt.figure(figsize=(10, 10))\n",
    "skew = plots.SkewT(fig)\n",
    "\n",
    "# Sometimes sonde data is still transmitted on the decent. by slicing with \"0:df.Height.idxmax()\" we are only use data upto the max hiehgt.\n",
    "skew.plot(df.Pressure[0:df.Height.idxmax()], df.Temp[0:df.Height.idxmax()], \"red\", label=\"Temperature\")\n",
    "skew.plot(df.Pressure[0:df.Height.idxmax()], df.Dewpoint[0:df.Height.idxmax()], \"green\", label=\"Dewpoint\")\n",
    "\n",
    "skew.plot_dry_adiabats()\n",
    "skew.plot_moist_adiabats\n",
    "()\n",
    "\n",
    "skew.ax.set_ylim(1020, 200)\n",
    "skew.ax.set_xlim(-30, 50)\n",
    "\n",
    "skew.ax.set_ylabel(\"Pressure (hPa)\")\n",
    "skew.ax.set_xlabel(\"Temperature (deg C)\")\n",
    "\n",
    "skew.ax.legend()\n",
    "skew.ax.set_title(\"HU-Beltsville Met-Sonde (RS41) 2022/03/16\")\n",
    "plt.show()"
   ]
  },
  {
   "cell_type": "markdown",
   "id": "bc6679cc-5f35-434e-9f7d-c32c9773f175",
   "metadata": {},
   "source": [
    "This shows that the enviromenta is Neutral or Conditionaly Unstable as it follows closely with the dry adiabatic line."
   ]
  },
  {
   "cell_type": "markdown",
   "id": "3257af09-4b32-4816-818c-14bfdf5ea54c",
   "metadata": {},
   "source": [
    "---\n",
    "### 4) What is the planetary boundary layer height for this sounding? Follow the analysis by Wang et al. (2014): Atmos. Meas. Tech., 7, 1701–1709"
   ]
  },
  {
   "cell_type": "code",
   "execution_count": null,
   "id": "67b117af-8e39-4d74-bd23-62bbf22b55bc",
   "metadata": {},
   "outputs": [],
   "source": [
    "fig = plt.figure(figsize=(10, 10))\n",
    "skew = plots.SkewT(fig)\n",
    "\n",
    "# Sometimes sonde data is still transmitted on the decent. by slicing with \"0:df.Height.idxmax()\" we are only use data upto the max hiehgt.\n",
    "skew.plot(df.Pressure[0:df.Height.idxmax()], df.Temp[0:df.Height.idxmax()], \"red\", label=\"Temperature\")\n",
    "skew.plot(df.Pressure[0:df.Height.idxmax()], df.Dewpoint[0:df.Height.idxmax()], \"green\", label=\"Dewpoint\")\n",
    "\n",
    "skew.plot_dry_adiabats()\n",
    "skew.plot_moist_adiabats()\n",
    "\n",
    "skew.ax.set_ylim(1020, 200)\n",
    "skew.ax.set_xlim(-30, 50)\n",
    "\n",
    "skew.ax.set_ylabel(\"Pressure (hPa)\")\n",
    "skew.ax.set_xlabel(\"Temperature (deg C)\")\n",
    "\n",
    "skew.ax.axhline(800*units.hPa, color=\"k\")\n",
    "\n",
    "skew.ax.legend()\n",
    "skew.ax.set_title(\"HU-Beltsville Met-Sonde (RS41) 2022/03/16\")\n",
    "plt.show()"
   ]
  },
  {
   "cell_type": "markdown",
   "id": "20ac6c73-1fb5-4f84-af1d-8c7155379168",
   "metadata": {},
   "source": [
    "The temperature Inversion at 800 hPa indicates the height of mixing layer. "
   ]
  },
  {
   "cell_type": "code",
   "execution_count": null,
   "id": "23c53608-5b43-43fb-89cf-e76b951b9d3d",
   "metadata": {},
   "outputs": [],
   "source": [
    "fig, ax = plt.subplots(nrows=1, ncols=4, figsize=(10, 8))\n",
    "\n",
    "ax[0].plot(df[\"Theta\"][0:df.Height.idxmax()], df[\"Height\"][0:df.Height.idxmax()], \"b\")\n",
    "ax[0].set_ylim(0, 10000)\n",
    "ax[0].set_xlim(250, 400)\n",
    "ax[0].set_xlabel(\"$\\Theta$ (K)\")\n",
    "ax[0].set_ylabel(\"Altitude (m AGL\")\n",
    "ax[0].axhline(2000, color=\"k\", linestyle=\"--\")\n",
    "\n",
    "ax[1].plot(df[\"Humidity\"][0:df.Height.idxmax()], df[\"Height\"][0:df.Height.idxmax()], \"r\")\n",
    "ax[1].set_ylim(0, 10000)\n",
    "ax[1].set_xlabel(\"RH (%)\")\n",
    "ax[1].axhline(2000, color=\"k\", linestyle=\"--\")\n",
    "\n",
    "ax[2].plot(df[\"q\"][0:df.Height.idxmax()], df[\"Height\"][0:df.Height.idxmax()], \"g\")\n",
    "ax[2].set_ylim(0, 10000)\n",
    "ax[2].set_xlim(250, 350)\n",
    "ax[2].set_xlabel(\"q (g/Kg)\")\n",
    "ax[2].axhline(2000, color=\"k\", linestyle=\"--\")\n",
    "\n",
    "ax[3].plot(df[\"N\"][0:df.Height.idxmax()], df[\"Height\"][0:df.Height.idxmax()], \"y\")\n",
    "ax[3].set_ylim(0, 10000)\n",
    "ax[3].set_xlim(50, 400)\n",
    "ax[3].set_xlabel(\"N\")\n",
    "ax[3].axhline(2000, color=\"k\", linestyle=\"--\")\n",
    "\n",
    "plt.tight_layout()\n",
    "\n",
    "\n",
    "plt.show()"
   ]
  },
  {
   "cell_type": "markdown",
   "id": "b714e4fb-87cf-47ae-840a-506168070414",
   "metadata": {},
   "source": [
    "The inversion / gradient is at 2000 m AGL and should be taken as the Mixing Layer Height for this profile at time of sonnde launch. "
   ]
  }
 ],
 "metadata": {
  "kernelspec": {
   "display_name": "Python 3 (ipykernel)",
   "language": "python",
   "name": "python3"
  },
  "language_info": {
   "codemirror_mode": {
    "name": "ipython",
    "version": 3
   },
   "file_extension": ".py",
   "mimetype": "text/x-python",
   "name": "python",
   "nbconvert_exporter": "python",
   "pygments_lexer": "ipython3",
   "version": "3.9.1"
  }
 },
 "nbformat": 4,
 "nbformat_minor": 5
}
